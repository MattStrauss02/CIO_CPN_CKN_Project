{
 "cells": [
  {
   "cell_type": "markdown",
   "id": "cf246156",
   "metadata": {},
   "source": [
    "Tell me whether you can read this fine"
   ]
  },
  {
   "cell_type": "code",
   "execution_count": 5,
   "id": "6116a5fd",
   "metadata": {},
   "outputs": [
    {
     "name": "stdout",
     "output_type": "stream",
     "text": [
      "The combined age of our group is 21\n"
     ]
    }
   ],
   "source": [
    "#Enter your age:\n",
    "age1 = 0\n",
    "age2 = 0\n",
    "age3 = 0\n",
    "age4 = 0\n",
    "age5 = 0\n",
    "age6 = 0\n",
    "\n",
    "print(\"The combined age of our group is\",(age1+age2+age3+age4+age5+age6))"
   ]
  },
  {
   "cell_type": "code",
   "execution_count": null,
   "id": "c29f8aee",
   "metadata": {},
   "outputs": [],
   "source": []
  }
 ],
 "metadata": {
  "kernelspec": {
   "display_name": "Python 3 (ipykernel)",
   "language": "python",
   "name": "python3"
  },
  "language_info": {
   "codemirror_mode": {
    "name": "ipython",
    "version": 3
   },
   "file_extension": ".py",
   "mimetype": "text/x-python",
   "name": "python",
   "nbconvert_exporter": "python",
   "pygments_lexer": "ipython3",
   "version": "3.10.9"
  }
 },
 "nbformat": 4,
 "nbformat_minor": 5
}
