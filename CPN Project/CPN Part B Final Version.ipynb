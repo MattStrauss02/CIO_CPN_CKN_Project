{
 "cells": [
  {
   "cell_type": "code",
   "execution_count": 1,
   "id": "2b9781d1",
   "metadata": {},
   "outputs": [],
   "source": [
    "import numpy as np\n",
    "import pandas as pd\n",
    "import sympy as sp\n",
    "from matplotlib import pyplot as plt\n",
    "from scipy.optimize import fsolve"
   ]
  },
  {
   "cell_type": "code",
   "execution_count": null,
   "id": "c906e973",
   "metadata": {},
   "outputs": [],
   "source": []
  },
  {
   "cell_type": "code",
   "execution_count": 2,
   "id": "40dac36f",
   "metadata": {},
   "outputs": [],
   "source": [
    "#-------------------------------Find k----------------------------------------------\n",
    "E = 6e04\n",
    "ko = 1e-04\n",
    "R = 8.314\n",
    "To = 1140\n",
    "def find_k(T):\n",
    "    k = ko*np.exp(-E/(R*T))\n",
    "    return k\n",
    "k = find_k(To)"
   ]
  },
  {
   "cell_type": "code",
   "execution_count": 3,
   "id": "5a4b770d",
   "metadata": {},
   "outputs": [],
   "source": [
    "Fs = 1.26\n",
    "V = 1\n",
    "#---------------------Steady state outlet concentrations-----------------------------\n",
    "Cas = 82.45\n",
    "Cbs = 247.36\n",
    "Ccs = 352.76\n",
    "#---------------------Steady state inlet concentrations-----------------------------\n",
    "Caos = 258.83\n",
    "Cbos = 776.5\n",
    "Ccos = 0\n",
    "\n",
    "Kp = 1/12\n",
    "tau = 10\n",
    "ksi = 3\n",
    "zeta = 3\n",
    "\n",
    "Ccv = 0.09662\n",
    "deltaP_cv = 2\n",
    "rho = 8.81609\n",
    "SG = rho/1000\n",
    "Pso = 9\n",
    "xs = 1/12*Pso"
   ]
  },
  {
   "cell_type": "markdown",
   "id": "ea1f22f5",
   "metadata": {},
   "source": [
    "## Differential equations\n",
    "The differential equations used to calculate the transfer functions are given below. \n",
    "\n",
    "Note that A is $N_2$, B is $H_2$, and C is $NH_3$"
   ]
  },
  {
   "cell_type": "markdown",
   "id": "373124c7",
   "metadata": {},
   "source": [
    "$$\n",
    "\\begin{bmatrix}\n",
    "\\frac{dC_A'}{dt} \\\\\n",
    "\\frac{dC_B'}{dt} \\\\\n",
    "\\frac{dC_C'}{dt}\n",
    "\\end{bmatrix}\n",
    "=\n",
    "\\begin{bmatrix}\n",
    "(-\\frac{Fs}{V} - kC_{Bs}^3) & (-3kC_{As} C_{Bs}^2) & 0 \\\\\n",
    "(-3kC_{Bs}^3) & (-\\frac{Fs}{V} - 9kC_{As}C_{Bs}^2) & 0 \\\\\n",
    "(2kC_{Bs}^3) & (6kC_{as}C_{Bs}^2) & (-\\frac{Fs}{V})\n",
    "\\end{bmatrix}\n",
    "\\cdot\n",
    "\\begin{bmatrix}\n",
    "C_A' \\\\\n",
    "C_B' \\\\\n",
    "C_C'\n",
    "\\end{bmatrix}\n",
    "+\n",
    "\\begin{bmatrix}\n",
    "\\frac{C_{Ao}-C_A}{V} \\\\\n",
    "\\frac{C_{Bo}-C_B}{V} \\\\\n",
    "0\n",
    "\\end{bmatrix}\n",
    "\\cdot\n",
    "\\begin{bmatrix}\n",
    "F' \n",
    "\\end{bmatrix}\n",
    "\\begin{bmatrix}\n",
    "\\frac{Fs}{V} \\\\\n",
    "0 \\\\\n",
    "0\n",
    "\\end{bmatrix}\n",
    "\\cdot\n",
    "\\begin{bmatrix}\n",
    "C_{Ao}' \n",
    "\\end{bmatrix}\n",
    "$$\n",
    "\n"
   ]
  },
  {
   "cell_type": "code",
   "execution_count": 4,
   "id": "560b7527",
   "metadata": {},
   "outputs": [],
   "source": [
    "#-------------------------------A Matrix----------------------------------------------\n",
    "a11 = -Fs/V-k*Cbs**3\n",
    "a12 = -3*k*Cas*Cbs**2\n",
    "a13 = 0\n",
    "a21 = -3*k*Cbs**3\n",
    "a22 = -Fs/V-9*k*Cas*Cbs**2\n",
    "a23 = 0\n",
    "a31 = 2*k*Cbs**3\n",
    "a32 = 6*k*Cas*Cbs**2\n",
    "a33 = -Fs/V\n",
    "#---------------------B Matrix (coefficients of MV)-----------------------------------\n",
    "b1 = (Caos-Cas)/V\n",
    "b2 = (Cbos-Cbs)/V\n",
    "b3 = -Ccs/V\n",
    "#---------------------E Matrix (coefficients of DV)-----------------------------------\n",
    "e1 = Fs/V\n",
    "e2 = 0\n",
    "e3 = 0"
   ]
  },
  {
   "cell_type": "markdown",
   "id": "f081df9d",
   "metadata": {},
   "source": [
    "## Finding Gp(s)"
   ]
  },
  {
   "cell_type": "code",
   "execution_count": 5,
   "id": "e568ebc2",
   "metadata": {},
   "outputs": [],
   "source": [
    "A = sp.Matrix([[a11,a12,a13],[a21,a22,a23],[a31,a32,a33]])    #Coefficients of Ca, Cb, Cc\n",
    "B = sp.Matrix([[b1],[b2],[b3]])                               #Coefficients of MV\n",
    "E = sp.Matrix([[e1],[e2],[e3]])                               #Coefficients of DV\n",
    "C = sp.Matrix([[0,0,1]])                                      #Indicates controlled variable is Cc\n",
    "I = sp.eye(A.shape[0])"
   ]
  },
  {
   "cell_type": "code",
   "execution_count": 6,
   "id": "b2f6c145",
   "metadata": {},
   "outputs": [
    {
     "data": {
      "text/latex": [
       "$\\displaystyle \\frac{Cc}{F} = \\frac{26457 \\left(- 269586130178937 s^{2} - 679357048050910 s - 427994940272065\\right)}{25 \\cdot \\left(808758390536811 s^{3} + 11778044077993900 s^{2} + 25828716614095900 s + 15463181029766200\\right)}$"
      ],
      "text/plain": [
       "Eq(Cc/F, 26457*(-269586130178937*s**2 - 679357048050910*s - 427994940272065)/(25*(808758390536811*s**3 + 11778044077993900*s**2 + 25828716614095900*s + 15463181029766200)))"
      ]
     },
     "metadata": {},
     "output_type": "display_data"
    }
   ],
   "source": [
    "Cc,F,s = sp.symbols('Cc,F,s')\n",
    "Gp1 = C*(s*I - A).inv()*B\n",
    "Gp1 = sp.nsimplify(Gp1[0,0]).simplify()\n",
    "display(sp.Eq(Cc/F,Gp1))"
   ]
  },
  {
   "cell_type": "markdown",
   "id": "a1d920b3",
   "metadata": {},
   "source": [
    "The transfer function above relates the outlet concentration of Ammonia ($C_c$) to the flow rate ($F$).\n",
    "\n",
    "We now need to find $\\frac{F}{P_s}$ so that we can multiply $\\frac{F}{P_s}$ by the transfer function $\\frac{C_c}{F}$ (above) in order to get the overall transfer function $\\frac{C_c}{P_s}$.\n"
   ]
  },
  {
   "cell_type": "markdown",
   "id": "9400b6d4",
   "metadata": {},
   "source": [
    "### Method\n",
    "To do this we begin by finding x/Ps. That is, how does the stem position x change with the pressure supplied. "
   ]
  },
  {
   "cell_type": "code",
   "execution_count": 7,
   "id": "d5a8d131",
   "metadata": {},
   "outputs": [],
   "source": [
    "d11 = 0\n",
    "d12 = 1\n",
    "d21 = -1/tau**2\n",
    "d22 = -2*ksi/tau\n",
    "\n",
    "f1 = 0\n",
    "f2 = Kp/tau**2"
   ]
  },
  {
   "cell_type": "code",
   "execution_count": 8,
   "id": "a0dd7fc5",
   "metadata": {},
   "outputs": [],
   "source": [
    "A2 = sp.Matrix([[d11,d12],[d21,d22]])\n",
    "B2 = sp.Matrix([[f1],[f2]])\n",
    "C2 = sp.Matrix([[1,0]])\n",
    "I2 = sp.eye(A2.shape[0])"
   ]
  },
  {
   "cell_type": "code",
   "execution_count": 9,
   "id": "dc360f2e",
   "metadata": {},
   "outputs": [
    {
     "data": {
      "text/latex": [
       "$\\displaystyle \\frac{x}{Ps} = \\frac{1}{12 \\cdot \\left(100 s^{2} + 60 s + 1\\right)}$"
      ],
      "text/plain": [
       "Eq(x/Ps, 1/(12*(100*s**2 + 60*s + 1)))"
      ]
     },
     "metadata": {},
     "output_type": "display_data"
    }
   ],
   "source": [
    "x,Ps,s = sp.symbols('x,Ps,s')\n",
    "Gp2 = C2*(s*I2 - A2).inv()*B2\n",
    "Gp2 = sp.nsimplify(Gp2[0,0]).simplify()\n",
    "display(sp.Eq(x/Ps,Gp2))"
   ]
  },
  {
   "cell_type": "markdown",
   "id": "d41a7a15",
   "metadata": {},
   "source": [
    "### The next step\n",
    "\n",
    "Now that we have $\\frac{x}{P_s}$, we can find $\\frac{F}{P_s}$. We know that after linearizing $f(x)$, $F' = k_1 \\cdot x'$ where $k_1$ is some constant.\n",
    "\n",
    "Re-arranging, we get that $x' = \\frac{F'}{k_1}$.\n",
    "\n",
    "We can substitute that into the equation above and find that $\\frac{F'}{P_s} = k_1 \\cdot \\frac{x}{P_s}$."
   ]
  },
  {
   "cell_type": "markdown",
   "id": "6f8c7b70",
   "metadata": {},
   "source": [
    "#### F\n",
    "$$F = C_{cv} \\cdot \\sqrt{x} \\cdot \\sqrt{\\frac{\\Delta P_{cv}}{SG}}$$\n",
    "\n",
    "After linearisation:\n",
    "$$F = C_{cv} \\cdot \\sqrt{\\frac{\\Delta P_{cv}}{SG}} \\cdot \\left(\\sqrt{x_s} + \\frac{x'}{2\\sqrt{x_s}}\\right)$$"
   ]
  },
  {
   "cell_type": "markdown",
   "id": "2274255d",
   "metadata": {},
   "source": [
    "#### k1\n",
    "\n",
    "After expressing in terms of deviation variables, we find that k1 is given by:\n",
    "\n",
    "$$k_1 = \\frac{C_{cv}}{2} \\cdot \\sqrt{\\frac{\\Delta P_{cv}}{x_s \\cdot SG}}$$\n",
    "\n",
    "Substituting in the numerical values we know, we can multiply $k_1$ by the transfer function $\\frac{x}{P_s}$ to obtain a new transfer function $\\frac{F}{P_s}$ shown below."
   ]
  },
  {
   "cell_type": "code",
   "execution_count": 10,
   "id": "7b18f1a0",
   "metadata": {},
   "outputs": [
    {
     "data": {
      "text/latex": [
       "$\\displaystyle \\frac{F}{Ps} = \\frac{0.0700167825648624}{100 s^{2} + 60 s + 1}$"
      ],
      "text/plain": [
       "Eq(F/Ps, 0.0700167825648624/(100*s**2 + 60*s + 1))"
      ]
     },
     "metadata": {},
     "output_type": "display_data"
    }
   ],
   "source": [
    "F,Ps,s = sp.symbols('F,Ps,s')\n",
    "Gp3 = Gp2*(Ccv/2*(deltaP_cv/xs/SG)**0.5) \n",
    "display(sp.Eq(F/Ps,Gp3))"
   ]
  },
  {
   "cell_type": "code",
   "execution_count": 64,
   "id": "b4868981",
   "metadata": {},
   "outputs": [
    {
     "data": {
      "text/latex": [
       "$\\displaystyle \\frac{Cc}{Ps} = \\frac{74.0973606527426 \\left(- 269586130178937 s^{2} - 679357048050910 s - 427994940272065\\right)}{\\left(100 s^{2} + 60 s + 1\\right) \\left(808758390536811 s^{3} + 11778044077993900 s^{2} + 25828716614095900 s + 15463181029766200\\right)}$"
      ],
      "text/plain": [
       "Eq(Cc/Ps, 74.0973606527426*(-269586130178937*s**2 - 679357048050910*s - 427994940272065)/((100*s**2 + 60*s + 1)*(808758390536811*s**3 + 11778044077993900*s**2 + 25828716614095900*s + 15463181029766200)))"
      ]
     },
     "metadata": {},
     "output_type": "display_data"
    },
    {
     "name": "stdout",
     "output_type": "stream",
     "text": [
      "Order of Gp: 5\n",
      "Gprz [-1.26, -1.26]\n",
      "Gprp [-0.58, -0.02, -1.26, -1.26, -12.04]\n",
      "ZerosGp [-1.26000009575580, -1.25999990424416]\n",
      "PolesGp: [-0.582842712474619, -0.0171572875253810, -1.26 + 4.5176959506e-8*I, -1.26 - 4.5176959506e-8*I, -12.0431182511458]\n",
      "[-0.582842712474619, -0.0171572875253810, -1.26 + 4.5176959506e-8*I, -1.26 - 4.5176959506e-8*I, -12.0431182511458]\n",
      "Factorized Gd (Simplified and Numeric): 1.0/((s + 0.02001953125)*(s + 0.580078125)*(s + 12.0400390625))\n"
     ]
    },
    {
     "data": {
      "text/latex": [
       "$\\displaystyle \\frac{Cc}{C_{Ao}} = \\frac{1.0}{\\left(s + 0.02001953125\\right) \\left(s + 0.580078125\\right) \\left(s + 12.0400390625\\right)}$"
      ],
      "text/plain": [
       "Eq(Cc/C_Ao, 1.0/((s + 0.02001953125)*(s + 0.580078125)*(s + 12.0400390625)))"
      ]
     },
     "metadata": {},
     "output_type": "display_data"
    }
   ],
   "source": [
    "Gp = Gp1*Gp3\n",
    "\n",
    "Cc,Ps,s = sp.symbols('Cc,Ps,s')\n",
    "display(sp.Eq(Cc/Ps,Gp))\n",
    "orderGp = sp.degree(sp.denom(Gp), s)\n",
    "print(\"Order of Gp:\", orderGp)\n",
    "\n",
    "# Find the zeros and poles\n",
    "zerosGp = sp.solve(sp.numer(Gp), s)  # Zeros\n",
    "polesGp = sp.solve(sp.denom(Gp), s)  # Poles\n",
    "\n",
    "# Numerical approximation of poles\n",
    "\n",
    "numerical_polesGp = [sp.N(pole) for pole in polesGp]\n",
    "\n",
    "nzerosGp=[sp.N(zero) for zero in zerosGp]\n",
    "Gprz = [round(zero, 2) for zero in zerosGp]\n",
    "Gprp = [round(pole, 2) for pole in numerical_polesGp]\n",
    "print('Gprz',Gprz)\n",
    "print('Gprp',Gprp)\n",
    "print('ZerosGp',nzerosGp)\n",
    "print(\"PolesGp:\", numerical_polesGp)\n",
    "\n",
    "polesGp = sp.solve(sp.denom(Gp), s)\n",
    "\n",
    "# Numerical values of poles (taking only the real part)\n",
    "\n",
    "print(numerical_polesGp)\n",
    "# Factorized form of Gp\n",
    "numeratorGp = 1\n",
    "denominatorGp = 1\n",
    "\n",
    "# Multiply the factors for zeros\n",
    "for zero in Gprz:\n",
    "    numeratorGp *= (s - zero)\n",
    "\n",
    "# Multiply the factors for poles\n",
    "for pole in Gprp:\n",
    "    denominatorGp *= (s - pole)\n",
    "\n",
    "factorized_Gp = numeratorGp / denominatorGp\n",
    "\n",
    "# Simplify and evaluate the factorized expression\n",
    "factorized_Gp_simplified = sp.simplify(factorized_Gp)\n",
    "fGp = sp.N(factorized_Gp_simplified)\n",
    "\n",
    "\n",
    "print(\"Factorized Gd (Simplified and Numeric):\", fGp)\n",
    "\n",
    "display(sp.Eq(Cc/C_Ao,fGp))"
   ]
  },
  {
   "cell_type": "markdown",
   "id": "3e68020c",
   "metadata": {},
   "source": [
    "## Finding Gd(s)\n",
    "\n",
    "All that remains to find Gd(s) is to switch out the B matrix with the E matrix defined before to find the contribution made by the disturbance variable."
   ]
  },
  {
   "cell_type": "code",
   "execution_count": 46,
   "id": "63685d51",
   "metadata": {},
   "outputs": [
    {
     "data": {
      "text/latex": [
       "$\\displaystyle \\frac{Cc}{C_{Ao}} = \\frac{252 \\cdot \\left(109015022377282 s + 137358928195375\\right)}{5 \\cdot \\left(808758390536811 s^{3} + 11778044077993900 s^{2} + 25828716614095900 s + 15463181029766200\\right)}$"
      ],
      "text/plain": [
       "Eq(Cc/C_Ao, 252*(109015022377282*s + 137358928195375)/(5*(808758390536811*s**3 + 11778044077993900*s**2 + 25828716614095900*s + 15463181029766200)))"
      ]
     },
     "metadata": {},
     "output_type": "display_data"
    },
    {
     "name": "stdout",
     "output_type": "stream",
     "text": [
      "Order: 3\n",
      "Zeros [-1.26000000000000]\n",
      "Poles: [-1.26 + 4.5176959506e-8*I, -1.26 - 4.5176959506e-8*I, -12.0431182511458]\n",
      "[-1.26000000000000, -1.26000000000000, -12.0431182511458]\n",
      "Factorized Gd (Simplified and Numeric): (0.629881582262535*s + 0.793650793650792)/((0.793650793650794*s + 1.0)**2*(s + 12.0431182511458))\n"
     ]
    },
    {
     "data": {
      "text/latex": [
       "$\\displaystyle \\frac{Cc}{C_{Ao}} = \\frac{0.629881582262535 s + 0.793650793650792}{\\left(0.793650793650794 s + 1.0\\right)^{2} \\left(s + 12.0431182511458\\right)}$"
      ],
      "text/plain": [
       "Eq(Cc/C_Ao, (0.629881582262535*s + 0.793650793650792)/((0.793650793650794*s + 1.0)**2*(s + 12.0431182511458)))"
      ]
     },
     "metadata": {},
     "output_type": "display_data"
    }
   ],
   "source": [
    "Cc,C_Ao,s = sp.symbols('Cc,C_Ao,s')\n",
    "Gd = C*(s*I - A).inv()*E\n",
    "Gd = sp.nsimplify(Gd[0,0]).simplify()\n",
    "display(sp.Eq(Cc/C_Ao,Gd))\n",
    "order = sp.degree(sp.denom(Gd), s)\n",
    "print(\"Order:\", order)\n",
    "\n",
    "# Find the zeros and poles\n",
    "zeros = sp.solve(sp.numer(Gd), s)  # Zeros\n",
    "poles = sp.solve(sp.denom(Gd), s)  # Poles\n",
    "poles = sp.solve(sp.denom(Gd), s)\n",
    "# Numerical approximation of poles\n",
    "\n",
    "numerical_poles = [sp.N(pole) for pole in poles]\n",
    "\n",
    "nzeros=[sp.N(zero) for zero in zeros]\n",
    "print('Zeros',nzeros)\n",
    "print(\"Poles:\", numerical_poles)\n",
    "Gd2=(s+1.26)/(((s+1.26)**2)*(s+12.04))\n",
    "poles = sp.solve(sp.denom(Gd), s)\n",
    "\n",
    "# Numerical values of poles (taking only the real part)\n",
    "numerical_poles = [sp.re(complex(p)) for p in poles]\n",
    "print(numerical_poles)\n",
    "# Factorized form of Gd\n",
    "numerator = 1\n",
    "denominator = 1\n",
    "\n",
    "# Multiply the factors for zeros\n",
    "for zero in nzeros:\n",
    "    numerator *= (s - zero)\n",
    "\n",
    "# Multiply the factors for poles\n",
    "for pole in numerical_poles:\n",
    "    denominator *= (s - pole)\n",
    "\n",
    "factorized_Gd = numerator / denominator\n",
    "\n",
    "# Simplify and evaluate the factorized expression\n",
    "factorized_Gd_simplified = sp.simplify(factorized_Gd)\n",
    "fGd = sp.N(factorized_Gd_simplified)\n",
    "\n",
    "\n",
    "print(\"Factorized Gd (Simplified and Numeric):\", fGd)\n",
    "\n",
    "display(sp.Eq(Cc/C_Ao,fGd))"
   ]
  },
  {
   "cell_type": "markdown",
   "id": "356db239",
   "metadata": {},
   "source": [
    "# Task 2: Block Diagram"
   ]
  },
  {
   "cell_type": "markdown",
   "id": "55bc434b",
   "metadata": {},
   "source": [
    "![Block Diagram](Block_Diagram.png)"
   ]
  },
  {
   "cell_type": "markdown",
   "id": "7b7b8ae0",
   "metadata": {},
   "source": [
    "# Task 3: Comparison of numerical methods and linearized model"
   ]
  },
  {
   "cell_type": "code",
   "execution_count": null,
   "id": "a600ea34",
   "metadata": {},
   "outputs": [],
   "source": [
    "def rates(var):\n",
    "    Ca,Cb,To = var\n",
    "    ra = -find_k(To)*Ca*Cb**3\n",
    "    rb = 3*ra\n",
    "    rc= -2*ra\n",
    "    return [ra,rb,rc]\n"
   ]
  },
  {
   "cell_type": "code",
   "execution_count": null,
   "id": "394bc70e",
   "metadata": {},
   "outputs": [],
   "source": [
    "def flow_valve(x):\n",
    "    Fo = Ccv*(x)**0.5*(deltaP_cv/SG)**0.5\n",
    "    return Fo\n"
   ]
  },
  {
   "cell_type": "code",
   "execution_count": null,
   "id": "7de37242",
   "metadata": {},
   "outputs": [],
   "source": [
    "def ManiVar(t, delta_Ps):\n",
    "    return Pso if t<step_time else Pso + delta_Ps\n"
   ]
  },
  {
   "cell_type": "code",
   "execution_count": null,
   "id": "80163e06",
   "metadata": {},
   "outputs": [],
   "source": [
    "def diff(t,var,MV):\n",
    "    x,x2,Ca,Cb,Cc = var\n",
    "    \n",
    "    #Rates calculation\n",
    "    ra,rb,rc = rates([Ca,Cb,To])\n",
    "    \n",
    "    #Valve equations\n",
    "    dxdt = x2\n",
    "    dx2dt = (-2*zeta/tau)*x2 - (1/tau**2)*x +(Kp/tau**2)*MV\n",
    "    Fo = flow_valve(x)\n",
    "    \n",
    "    #Mass Balance, Assuming density remains constant\n",
    "    F1 = Fo\n",
    "    \n",
    "    #Component balances\n",
    "    dCadt = (Fo*Caos - F1*Ca +ra*V)/V\n",
    "    dCbdt = (Fo*Cbos - F1*Cb +rb*V)/V\n",
    "    dCcdt = (Fo*Ccos - F1*Cc +rc*V)/V\n",
    "    \n",
    "    return np.array([dxdt,dx2dt,dCadt,dCbdt,dCcdt])\n",
    "   "
   ]
  },
  {
   "cell_type": "code",
   "execution_count": null,
   "id": "7077ef77",
   "metadata": {},
   "outputs": [],
   "source": [
    "def steady(var):\n",
    "    return diff(0,var,Pso)"
   ]
  },
  {
   "cell_type": "code",
   "execution_count": null,
   "id": "13e5d7f8",
   "metadata": {},
   "outputs": [],
   "source": [
    "def Euler(t,dt,var,MV):\n",
    "    de_var = diff(t,var,MV)\n",
    "    var = de_var*dt + var\n",
    "    return var"
   ]
  },
  {
   "cell_type": "code",
   "execution_count": null,
   "id": "1af47b52",
   "metadata": {},
   "outputs": [],
   "source": [
    "def Euler_Integration(tspan,dt, delta_Ps,ss_var):\n",
    "    Values = []\n",
    "    var = ss_var\n",
    "    for i,t in enumerate(tspan):\n",
    "        MV = ManiVar(t, delta_Ps)\n",
    "        var = Euler(t,dt,var,MV)\n",
    "        Values.append(var)\n",
    "    return Values"
   ]
  },
  {
   "cell_type": "code",
   "execution_count": null,
   "id": "0942ef59",
   "metadata": {},
   "outputs": [],
   "source": [
    "#Plotting\n",
    "ss_var = fsolve(steady,[0.5,0,80,250,350])\n",
    "\n",
    "time = (0,500)\n",
    "tspan = np.linspace(*time,30000)\n",
    "dt = tspan[1]\n",
    "\n",
    "step_time = 10\n",
    "deltaP_step_change_1 = 0.25\n",
    "deltaP_step_change_2 = 4\n",
    "Values_1 = Euler_Integration(tspan,dt, deltaP_step_change_1,ss_var)\n",
    "Values_2 = Euler_Integration(tspan,dt, deltaP_step_change_2,ss_var)\n",
    "\n",
    "Cc_vals_1 = np.array([Values_1[i][-1] for i in range(len(Values_1))])\n",
    "Cc_vals_2 = np.array([Values_2[i][-1] for i in range(len(Values_2))])\n",
    "\n",
    "data_1 = np.matrix(pd.read_csv(\"0.25 psi step data.csv\"))\n",
    "data_2 = np.matrix(pd.read_csv(\"4 psi step data.csv\"))\n",
    "\n",
    "times_scilab = data_1[:,0]\n",
    "\n",
    "Cc_vals_1_scilab = data_1[:,1]\n",
    "Cc_vals_2_scilab = data_2[:,1]"
   ]
  },
  {
   "cell_type": "code",
   "execution_count": null,
   "id": "605bad12",
   "metadata": {},
   "outputs": [],
   "source": [
    "fig, axs = plt.subplots(1, 2, figsize=(12, 5))\n",
    "\n",
    "axs[0].plot(tspan,Cc_vals_1 - Ccs,label=\"Euler method\")\n",
    "axs[0].plot(times_scilab,Cc_vals_1_scilab,label=\"Linearized transfer function\")\n",
    "axs[0].set_title(\"Graph showing $C_{NH_3}$ for a step change in Ps of 0.25 psi\")\n",
    "axs[0].set_xlabel(\"Time (s)\")\n",
    "axs[0].set_ylabel(\"Concentration (mol/$m^3$)\")\n",
    "axs[0].legend(loc=\"best\")\n",
    "\n",
    "axs[1].plot(tspan,Cc_vals_2 - Ccs,label=\"Euler method\")\n",
    "axs[1].plot(times_scilab,Cc_vals_2_scilab,label=\"Linearized transfer function\")\n",
    "axs[1].set_title(\"Graph showing $C_{NH_3}$ for a step change in Ps of 4 psi\")\n",
    "axs[1].set_xlabel(\"Time (s)\")\n",
    "axs[1].set_ylabel(\"Concentration (mol/$m^3$)\")\n",
    "axs[1].legend(loc=\"best\")\n",
    "\n",
    "plt.tight_layout()\n",
    "plt.show()"
   ]
  }
 ],
 "metadata": {
  "kernelspec": {
   "display_name": "Python 3 (ipykernel)",
   "language": "python",
   "name": "python3"
  },
  "language_info": {
   "codemirror_mode": {
    "name": "ipython",
    "version": 3
   },
   "file_extension": ".py",
   "mimetype": "text/x-python",
   "name": "python",
   "nbconvert_exporter": "python",
   "pygments_lexer": "ipython3",
   "version": "3.9.12"
  }
 },
 "nbformat": 4,
 "nbformat_minor": 5
}
