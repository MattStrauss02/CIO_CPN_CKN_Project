{
 "cells": [
  {
   "cell_type": "code",
   "execution_count": 1,
   "id": "5de2d98b",
   "metadata": {},
   "outputs": [],
   "source": [
    "import numpy as np\n",
    "from scipy.integrate import odeint\n",
    "from scipy.optimize import fsolve, curve_fit\n",
    "from matplotlib import pyplot as plt\n",
    "import matplotlib.pyplot\n",
    "import pandas as pd\n",
    "from scipy.integrate import solve_ivp"
   ]
  },
  {
   "cell_type": "markdown",
   "id": "3c5bd3ae",
   "metadata": {},
   "source": [
    "This is all for task 4 redone:"
   ]
  },
  {
   "cell_type": "code",
   "execution_count": 12,
   "id": "5b33cf5d",
   "metadata": {},
   "outputs": [
    {
     "name": "stdout",
     "output_type": "stream",
     "text": [
      "1.2603026152750254\n"
     ]
    }
   ],
   "source": [
    "MM_N2 = 14.0067*2\n",
    "MM_H2 = 1.00784*2\n",
    "N2_frac = 0.25\n",
    "H2_frac = 0.75\n",
    "MM_mix = MM_N2*N2_frac + MM_H2*H2_frac   #g/mol\n",
    "molar_flow = 1304.85    #mol/s\n",
    "mass_flow = molar_flow*MM_mix / 1000   #kg/s\n",
    "density_mix = 8.81609     #kg/m^3\n",
    "volumetric_flow = mass_flow/density_mix #m^3/s\n",
    "print(volumetric_flow)"
   ]
  },
  {
   "cell_type": "code",
   "execution_count": 1,
   "id": "8290362e",
   "metadata": {},
   "outputs": [
    {
     "ename": "NameError",
     "evalue": "name 'np' is not defined",
     "output_type": "error",
     "traceback": [
      "\u001b[0;31m---------------------------------------------------------------------------\u001b[0m",
      "\u001b[0;31mNameError\u001b[0m                                 Traceback (most recent call last)",
      "Cell \u001b[0;32mIn[1], line 7\u001b[0m\n\u001b[1;32m      5\u001b[0m R \u001b[38;5;241m=\u001b[39m \u001b[38;5;241m8.314\u001b[39m\n\u001b[1;32m      6\u001b[0m T \u001b[38;5;241m=\u001b[39m \u001b[38;5;241m866.85\u001b[39m\u001b[38;5;241m+\u001b[39m\u001b[38;5;241m273.15\u001b[39m\n\u001b[0;32m----> 7\u001b[0m k \u001b[38;5;241m=\u001b[39m k0\u001b[38;5;241m*\u001b[39m\u001b[43mnp\u001b[49m\u001b[38;5;241m.\u001b[39mexp(\u001b[38;5;241m-\u001b[39mEa\u001b[38;5;241m/\u001b[39m(R\u001b[38;5;241m*\u001b[39mT))\n\u001b[1;32m      8\u001b[0m F \u001b[38;5;241m=\u001b[39m volumetric_flow\n\u001b[1;32m      9\u001b[0m CN2_in \u001b[38;5;241m=\u001b[39m molar_flow\u001b[38;5;241m*\u001b[39mN2_frac \u001b[38;5;241m/\u001b[39m F\n",
      "\u001b[0;31mNameError\u001b[0m: name 'np' is not defined"
     ]
    }
   ],
   "source": [
    "#------------------------------------------Given variables------------------------------------------------------\n",
    "V = 1\n",
    "k0 = 0.0001\n",
    "Ea = 60000\n",
    "R = 8.314\n",
    "T = 866.85+273.15\n",
    "k = k0*np.exp(-Ea/(R*T))\n",
    "F = volumetric_flow\n",
    "CN2_in = molar_flow*N2_frac / F\n",
    "CH2_in = molar_flow*H2_frac / F\n",
    "CNH3_in = 0"
   ]
  },
  {
   "cell_type": "code",
   "execution_count": 23,
   "id": "0fbb2d00",
   "metadata": {},
   "outputs": [
    {
     "name": "stdout",
     "output_type": "stream",
     "text": [
      "F = 1.26 m^3/s; CN2 = 82.45 mol/m^3; CH2 = 247.35 mol/m^3; CNH3 = 352.773 mol/m^3\n"
     ]
    }
   ],
   "source": [
    "#------------------------------------------Using fsolve------------------------------------------------------\n",
    "def solve(y):\n",
    "    CN2, CH2, CNH3 = y\n",
    "    eqn1 = F*CN2_in/V - F*CN2/V - k*CN2*CH2**3\n",
    "    eqn2 = F*CH2_in/V - F*CH2/V - 3*k*CN2*CH2**3\n",
    "    eqn3 = F*CNH3_in/V - F*CNH3/V + 2*k*CN2*CH2**3\n",
    "    return eqn1, eqn2, eqn3\n",
    "\n",
    "guess = [81, 247, 353]\n",
    "\n",
    "CN2, CH2, CNH3 = fsolve(solve,guess)\n",
    "\n",
    "F = round(F, 3)\n",
    "CN2 = round(CN2, 3)\n",
    "CH2 = round(CH2, 3)\n",
    "CNH3 = round(CNH3, 3)\n",
    "\n",
    "formatted_output = f\"F = {F} m^3/s; CN2 = {CN2} mol/m^3; CH2 = {CH2} mol/m^3; CNH3 = {CNH3} mol/m^3\"\n",
    "\n",
    "print(formatted_output)"
   ]
  }
 ],
 "metadata": {
  "kernelspec": {
   "display_name": "Python 3 (ipykernel)",
   "language": "python",
   "name": "python3"
  },
  "language_info": {
   "codemirror_mode": {
    "name": "ipython",
    "version": 3
   },
   "file_extension": ".py",
   "mimetype": "text/x-python",
   "name": "python",
   "nbconvert_exporter": "python",
   "pygments_lexer": "ipython3",
   "version": "3.10.9"
  }
 },
 "nbformat": 4,
 "nbformat_minor": 5
}
