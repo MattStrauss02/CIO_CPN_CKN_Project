{
 "cells": [
  {
   "cell_type": "code",
   "execution_count": 2,
   "id": "fc72b76a",
   "metadata": {},
   "outputs": [],
   "source": [
    "import numpy as np\n",
    "from scipy.optimize import curve_fit\n",
    "from scipy.integrate import odeint\n",
    "from scipy.optimize import fsolve\n",
    "from matplotlib import pyplot as plt\n",
    "import matplotlib.pyplot\n",
    "import pandas as pd\n",
    "from scipy.integrate import solve_ivp"
   ]
  },
  {
   "cell_type": "code",
   "execution_count": 3,
   "id": "2f1e6daa",
   "metadata": {},
   "outputs": [],
   "source": [
    "def FOPDT(t, Kp, tau, theta):\n",
    "    L_vals = []\n",
    "    for i in t:\n",
    "        if i<=theta:\n",
    "            L_vals.append(Ls)\n",
    "        if i>theta:\n",
    "            L = Kp*M*(1-np.exp(-(i-theta)/tau)) + Ls\n",
    "            L_vals.append(L)\n",
    "    return np.array(L_vals)"
   ]
  },
  {
   "cell_type": "code",
   "execution_count": null,
   "id": "87d5ff38",
   "metadata": {},
   "outputs": [],
   "source": []
  }
 ],
 "metadata": {
  "kernelspec": {
   "display_name": "Python 3 (ipykernel)",
   "language": "python",
   "name": "python3"
  },
  "language_info": {
   "codemirror_mode": {
    "name": "ipython",
    "version": 3
   },
   "file_extension": ".py",
   "mimetype": "text/x-python",
   "name": "python",
   "nbconvert_exporter": "python",
   "pygments_lexer": "ipython3",
   "version": "3.10.9"
  }
 },
 "nbformat": 4,
 "nbformat_minor": 5
}
