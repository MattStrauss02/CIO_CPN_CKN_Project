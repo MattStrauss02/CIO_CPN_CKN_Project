{
 "cells": [
  {
   "cell_type": "markdown",
   "id": "e591620b",
   "metadata": {},
   "source": [
    "Hopefully everything works fine. "
   ]
  },
  {
   "cell_type": "code",
   "execution_count": 9,
   "id": "a79735ff",
   "metadata": {},
   "outputs": [
    {
     "name": "stdout",
     "output_type": "stream",
     "text": [
      "The members in this group are Matthew Strauss, , , , , and \n"
     ]
    }
   ],
   "source": [
    "#Add your name:\n",
    "name1 = \"\"\n",
    "name2 = \"\"\n",
    "name3 = \"\"\n",
    "name4 = \"\"\n",
    "name5 = \"\"\n",
    "name6 = \"\"\n",
    "\n",
    "print(\"The members in this group are {}, {}, {}, {}, {}, and {}\".format(name1, name2, name3, name4, name5, name6))"
   ]
  },
  {
   "cell_type": "code",
   "execution_count": null,
   "id": "0a31505f",
   "metadata": {},
   "outputs": [],
   "source": []
  }
 ],
 "metadata": {
  "kernelspec": {
   "display_name": "Python 3 (ipykernel)",
   "language": "python",
   "name": "python3"
  },
  "language_info": {
   "codemirror_mode": {
    "name": "ipython",
    "version": 3
   },
   "file_extension": ".py",
   "mimetype": "text/x-python",
   "name": "python",
   "nbconvert_exporter": "python",
   "pygments_lexer": "ipython3",
   "version": "3.10.9"
  }
 },
 "nbformat": 4,
 "nbformat_minor": 5
}
