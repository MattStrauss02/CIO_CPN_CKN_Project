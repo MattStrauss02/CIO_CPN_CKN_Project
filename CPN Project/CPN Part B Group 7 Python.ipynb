{
 "cells": [
  {
   "cell_type": "code",
   "execution_count": 33,
   "id": "fe2a6fae",
   "metadata": {},
   "outputs": [],
   "source": [
    "import numpy as np\n",
    "import pandas as pd\n",
    "import sympy as sp\n",
    "from matplotlib import pyplot as plt"
   ]
  },
  {
   "cell_type": "code",
   "execution_count": 35,
   "id": "10ef2f8c",
   "metadata": {},
   "outputs": [],
   "source": [
    "E = 6e04\n",
    "ko = 1e-04\n",
    "R = 8.314\n",
    "To = 1140\n",
    "def k(T):\n",
    "    k = ko*np.exp(-E/(R*T))\n",
    "    return k"
   ]
  },
  {
   "cell_type": "code",
   "execution_count": 17,
   "id": "15ac82e3",
   "metadata": {},
   "outputs": [],
   "source": [
    "Fs = 1.26\n",
    "V = 1\n",
    "\n",
    "Cas = 82.45\n",
    "Cbs = 247.36\n",
    "Ccs = 352.76\n",
    "\n",
    "Ca0s = 258.83\n",
    "Cb0s = 776.5\n",
    "\n",
    "Kp = 1/12\n",
    "tau = 10\n",
    "ksi = 3\n",
    "\n",
    "Ccv = 0.09662\n",
    "deltaP_cv = 2\n",
    "rho = 8.81609\n",
    "SG = rho/1000\n",
    "xs = 1/12*9"
   ]
  },
  {
   "cell_type": "code",
   "execution_count": 18,
   "id": "087ca1a3",
   "metadata": {},
   "outputs": [],
   "source": [
    "a11 = -Fs/V-k*Cbs**3\n",
    "a12 = -3*k*Cas*Cbs**2\n",
    "a13 = 0\n",
    "\n",
    "a21 = -3*k*V*Cbs**3\n",
    "a22 = -Fs/V-9*k*Cas*Cbs**2\n",
    "a23 = 0\n",
    "\n",
    "a31 = 2*k*Cbs**3\n",
    "a32 = 6*k*Cas*Cbs**2\n",
    "a33 = -Fs/V\n",
    "\n",
    "b1 = (Ca0s-Cas)/V\n",
    "b2 = (Cb0s-Cbs)/V\n",
    "b3 = -Ccs/V\n",
    "\n",
    "e1 = Fs/V\n",
    "e2 = 0\n",
    "e3 = 0"
   ]
  },
  {
   "cell_type": "code",
   "execution_count": 22,
   "id": "ec538f0c",
   "metadata": {},
   "outputs": [],
   "source": [
    "A = sp.Matrix([[a11,a12,a13],[a21,a22,a23],[a31,a32,a33]])\n",
    "B = sp.Matrix([[b1],[b2],[b3]])\n",
    "E = sp.Matrix([[e1],[e2],[e3]])\n",
    "C = sp.Matrix([[0,0,1]])     \n",
    "I = sp.eye(A.shape[0])"
   ]
  },
  {
   "cell_type": "code",
   "execution_count": 25,
   "id": "e683746c",
   "metadata": {},
   "outputs": [
    {
     "data": {
      "text/latex": [
       "$\\displaystyle \\frac{Cc}{F} = \\frac{8819 \\left(- 80875839053681 s^{2} - 203807114415275 s - 128398482081622\\right)}{25 \\cdot \\left(80875839053681 s^{3} + 1177804407799390 s^{2} + 2582871661409590 s + 1546318102976620\\right)}$"
      ],
      "text/plain": [
       "Eq(Cc/F, 8819*(-80875839053681*s**2 - 203807114415275*s - 128398482081622)/(25*(80875839053681*s**3 + 1177804407799390*s**2 + 2582871661409590*s + 1546318102976620)))"
      ]
     },
     "metadata": {},
     "output_type": "display_data"
    }
   ],
   "source": [
    "Cc,F,s = sp.symbols('Cc,F,s')\n",
    "Gp1 = C*(s*I - A).inv()*B\n",
    "Gp1 = sp.nsimplify(Gp1[0,0]).simplify()\n",
    "display(sp.Eq(Cc/F,Gp1))"
   ]
  },
  {
   "cell_type": "code",
   "execution_count": 26,
   "id": "ce764a9b",
   "metadata": {},
   "outputs": [],
   "source": [
    "d11 = 0\n",
    "d12 = 1\n",
    "d21 = -1/tau**2\n",
    "d22 = -2*ksi/tau\n",
    "\n",
    "f1 = 0\n",
    "f2 = Kp/tau**2"
   ]
  },
  {
   "cell_type": "code",
   "execution_count": 27,
   "id": "db0a6d20",
   "metadata": {},
   "outputs": [],
   "source": [
    "A2 = sp.Matrix([[d11,d12],[d21,d22]])\n",
    "B2 = sp.Matrix([[f1],[f2]])\n",
    "C2 = sp.Matrix([[1,0]])\n",
    "I2 = sp.eye(A2.shape[0])"
   ]
  },
  {
   "cell_type": "code",
   "execution_count": 29,
   "id": "5d7c5149",
   "metadata": {},
   "outputs": [
    {
     "data": {
      "text/latex": [
       "$\\displaystyle \\frac{x}{Ps} = \\frac{1}{12 \\cdot \\left(100 s^{2} + 60 s + 1\\right)}$"
      ],
      "text/plain": [
       "Eq(x/Ps, 1/(12*(100*s**2 + 60*s + 1)))"
      ]
     },
     "metadata": {},
     "output_type": "display_data"
    }
   ],
   "source": [
    "x,Ps,s = sp.symbols('x,Ps,s')\n",
    "Gp2 = C2*(s*I2 - A2).inv()*B2\n",
    "Gp2 = sp.nsimplify(Gp2[0,0]).simplify()\n",
    "display(sp.Eq(x/Ps,Gp2))"
   ]
  },
  {
   "cell_type": "code",
   "execution_count": 31,
   "id": "0cf725c3",
   "metadata": {},
   "outputs": [
    {
     "data": {
      "text/latex": [
       "$\\displaystyle \\frac{F}{Ps} = \\frac{0.0700167825648624}{100 s^{2} + 60 s + 1}$"
      ],
      "text/plain": [
       "Eq(F/Ps, 0.0700167825648624/(100*s**2 + 60*s + 1))"
      ]
     },
     "metadata": {},
     "output_type": "display_data"
    }
   ],
   "source": [
    "F,Ps,s = sp.symbols('F,Ps,s')\n",
    "Gp3 = Gp2*(Ccv/2*(deltaP_cv/xs/SG)**0.5) \n",
    "display(sp.Eq(F/Ps,Gp3))"
   ]
  },
  {
   "cell_type": "code",
   "execution_count": 32,
   "id": "8f709a7c",
   "metadata": {},
   "outputs": [
    {
     "data": {
      "text/latex": [
       "$\\displaystyle \\frac{Cc}{Ps} = \\frac{24.6991202175809 \\left(- 80875839053681 s^{2} - 203807114415275 s - 128398482081622\\right)}{\\left(100 s^{2} + 60 s + 1\\right) \\left(80875839053681 s^{3} + 1177804407799390 s^{2} + 2582871661409590 s + 1546318102976620\\right)}$"
      ],
      "text/plain": [
       "Eq(Cc/Ps, 24.6991202175809*(-80875839053681*s**2 - 203807114415275*s - 128398482081622)/((100*s**2 + 60*s + 1)*(80875839053681*s**3 + 1177804407799390*s**2 + 2582871661409590*s + 1546318102976620)))"
      ]
     },
     "metadata": {},
     "output_type": "display_data"
    }
   ],
   "source": [
    "Gp = Gp1*Gp3\n",
    "\n",
    "Cc,Ps,s = sp.symbols('Cc,Ps,s')\n",
    "display(sp.Eq(Cc/Ps,Gp))"
   ]
  },
  {
   "cell_type": "code",
   "execution_count": null,
   "id": "49d4b046",
   "metadata": {},
   "outputs": [],
   "source": []
  },
  {
   "cell_type": "code",
   "execution_count": 24,
   "id": "2bef34bc",
   "metadata": {},
   "outputs": [
    {
     "data": {
      "text/latex": [
       "$\\displaystyle \\frac{Cc}{Ca_{0}} = \\frac{63 \\cdot \\left(436060089509127 s + 549435712781501\\right)}{50 \\cdot \\left(80875839053681 s^{3} + 1177804407799390 s^{2} + 2582871661409590 s + 1546318102976620\\right)}$"
      ],
      "text/plain": [
       "Eq(Cc/Ca0, 63*(436060089509127*s + 549435712781501)/(50*(80875839053681*s**3 + 1177804407799390*s**2 + 2582871661409590*s + 1546318102976620)))"
      ]
     },
     "metadata": {},
     "output_type": "display_data"
    }
   ],
   "source": [
    "Cc,Ca0,s = sp.symbols('Cc,Ca0,s')\n",
    "Gp_MV = C*(s*I - A).inv()*E\n",
    "Gp_MV = sp.nsimplify(Gp_MV[0,0]).simplify()\n",
    "display(sp.Eq(Cc/Ca0,Gp_MV))"
   ]
  },
  {
   "cell_type": "code",
   "execution_count": null,
   "id": "8c7d49af",
   "metadata": {},
   "outputs": [],
   "source": []
  },
  {
   "cell_type": "code",
   "execution_count": null,
   "id": "19e62b95",
   "metadata": {},
   "outputs": [],
   "source": []
  },
  {
   "cell_type": "code",
   "execution_count": null,
   "id": "48387732",
   "metadata": {},
   "outputs": [],
   "source": []
  },
  {
   "cell_type": "code",
   "execution_count": null,
   "id": "9f2722fc",
   "metadata": {},
   "outputs": [],
   "source": []
  },
  {
   "cell_type": "code",
   "execution_count": null,
   "id": "b1f1bf46",
   "metadata": {},
   "outputs": [],
   "source": []
  },
  {
   "cell_type": "code",
   "execution_count": null,
   "id": "a48826fa",
   "metadata": {},
   "outputs": [],
   "source": []
  },
  {
   "cell_type": "code",
   "execution_count": 15,
   "id": "aa17d78e",
   "metadata": {},
   "outputs": [],
   "source": [
    "#Fill in SS values gathered as found in the memo"
   ]
  },
  {
   "cell_type": "code",
   "execution_count": 16,
   "id": "6248d91a",
   "metadata": {},
   "outputs": [],
   "source": [
    "#Fill in parameters like tau, ksi, Ccv, etc."
   ]
  },
  {
   "cell_type": "code",
   "execution_count": 13,
   "id": "c7df090c",
   "metadata": {},
   "outputs": [
    {
     "ename": "SyntaxError",
     "evalue": "incomplete input (3727379525.py, line 2)",
     "output_type": "error",
     "traceback": [
      "\u001b[0;36m  Cell \u001b[0;32mIn[13], line 2\u001b[0;36m\u001b[0m\n\u001b[0;31m    #fill in function\u001b[0m\n\u001b[0m                     ^\u001b[0m\n\u001b[0;31mSyntaxError\u001b[0m\u001b[0;31m:\u001b[0m incomplete input\n"
     ]
    }
   ],
   "source": [
    "def rates(var):\n",
    "    #fill in function"
   ]
  },
  {
   "cell_type": "code",
   "execution_count": null,
   "id": "418657c8",
   "metadata": {},
   "outputs": [],
   "source": [
    "def flow_valve(x):\n",
    "    #fill in function"
   ]
  },
  {
   "cell_type": "code",
   "execution_count": 10,
   "id": "d1877fae",
   "metadata": {},
   "outputs": [],
   "source": [
    "def ManiVar(t):\n",
    "    return Pso if t<step_time else Pso + delta_Ps"
   ]
  },
  {
   "cell_type": "code",
   "execution_count": null,
   "id": "7588c54c",
   "metadata": {},
   "outputs": [],
   "source": []
  },
  {
   "cell_type": "code",
   "execution_count": null,
   "id": "1c4f1567",
   "metadata": {},
   "outputs": [],
   "source": [
    "def diff(t,var,MV):\n",
    "    #fill in function"
   ]
  },
  {
   "cell_type": "code",
   "execution_count": 7,
   "id": "7183138e",
   "metadata": {},
   "outputs": [],
   "source": [
    "def Euler(t,dt,var,MV):\n",
    "    de_var = diff(t,var,MV)\n",
    "    var = de_var*dt + var\n",
    "    return var"
   ]
  },
  {
   "cell_type": "code",
   "execution_count": 8,
   "id": "e02c70aa",
   "metadata": {},
   "outputs": [],
   "source": [
    "def Euler_Integration(tspan,dt,ss_var):\n",
    "    Values = []\n",
    "    var = ss_var\n",
    "    for i,t in enumerate(tspan):\n",
    "        MV = ManiVar(t)\n",
    "        var = Euler(t,dt,var,MV)\n",
    "        Values.append(var)\n",
    "    return Values"
   ]
  },
  {
   "cell_type": "code",
   "execution_count": null,
   "id": "00508d07",
   "metadata": {},
   "outputs": [],
   "source": []
  }
 ],
 "metadata": {
  "kernelspec": {
   "display_name": "Python 3 (ipykernel)",
   "language": "python",
   "name": "python3"
  },
  "language_info": {
   "codemirror_mode": {
    "name": "ipython",
    "version": 3
   },
   "file_extension": ".py",
   "mimetype": "text/x-python",
   "name": "python",
   "nbconvert_exporter": "python",
   "pygments_lexer": "ipython3",
   "version": "3.10.9"
  }
 },
 "nbformat": 4,
 "nbformat_minor": 5
}
