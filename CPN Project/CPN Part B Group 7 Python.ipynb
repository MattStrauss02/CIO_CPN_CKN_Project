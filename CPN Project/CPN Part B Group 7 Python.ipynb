{
 "cells": [
  {
   "cell_type": "code",
   "execution_count": 37,
   "id": "fe2a6fae",
   "metadata": {},
   "outputs": [],
   "source": [
    "import numpy as np\n",
    "import pandas as pd\n",
    "import sympy as sp\n",
    "from matplotlib import pyplot as plt"
   ]
  },
  {
   "cell_type": "code",
   "execution_count": 56,
   "id": "9dec7c94",
   "metadata": {},
   "outputs": [],
   "source": [
    "#-------------------------------Find k----------------------------------------------\n",
    "E = 6e04\n",
    "ko = 1e-04\n",
    "R = 8.314\n",
    "To = 1140\n",
    "def k(T):\n",
    "    k = ko*np.exp(-E/(R*T))\n",
    "    return k\n",
    "k = k(To)"
   ]
  },
  {
   "cell_type": "code",
   "execution_count": 57,
   "id": "15ac82e3",
   "metadata": {},
   "outputs": [],
   "source": [
    "Fs = 1.26\n",
    "V = 1\n",
    "#---------------------Steady state outlet concentrations-----------------------------\n",
    "Cas = 82.45\n",
    "Cbs = 247.36\n",
    "Ccs = 352.76\n",
    "#---------------------Steady state inlet concentrations-----------------------------\n",
    "Caos = 258.83\n",
    "Cbos = 776.5\n",
    "Ccos = 0\n",
    "\n",
    "Kp = 1/12\n",
    "tau = 10\n",
    "ksi = 3\n",
    "\n",
    "Ccv = 0.09662\n",
    "deltaP_cv = 2\n",
    "rho = 8.81609\n",
    "SG = rho/1000\n",
    "xs = 1/12*9"
   ]
  },
  {
   "cell_type": "markdown",
   "id": "a91c0f6d",
   "metadata": {},
   "source": [
    "## Differential equations\n",
    "The differential equations used to calculate the transfer functions are given below. \n",
    "\n",
    "Note that A is $N_2$, B is $H_2$, and C is $NH_3$"
   ]
  },
  {
   "cell_type": "markdown",
   "id": "ea006110",
   "metadata": {},
   "source": [
    "$$\n",
    "\\begin{bmatrix}\n",
    "\\frac{dC_A'}{dt} \\\\\n",
    "\\frac{dC_B'}{dt} \\\\\n",
    "\\frac{dC_C'}{dt}\n",
    "\\end{bmatrix}\n",
    "=\n",
    "\\begin{bmatrix}\n",
    "(-\\frac{Fs}{V} - kC_{Bs}^3) & (-3kC_{As} C_{Bs}^2) & 0 \\\\\n",
    "(-3kC_{Bs}^3) & (-\\frac{Fs}{V} - 9kC_{As}C_{Bs}^2) & 0 \\\\\n",
    "(2kC_{Bs}^3) & (6kC_{as}C_{Bs}^2) & (-\\frac{Fs}{V})\n",
    "\\end{bmatrix}\n",
    "\\cdot\n",
    "\\begin{bmatrix}\n",
    "C_A' \\\\\n",
    "C_B' \\\\\n",
    "C_C'\n",
    "\\end{bmatrix}\n",
    "+\n",
    "\\begin{bmatrix}\n",
    "\\frac{C_{Ao}-C_A}{V} \\\\\n",
    "\\frac{C_{Bo}-C_B}{V} \\\\\n",
    "0\n",
    "\\end{bmatrix}\n",
    "\\cdot\n",
    "\\begin{bmatrix}\n",
    "F' \n",
    "\\end{bmatrix}\n",
    "\\begin{bmatrix}\n",
    "\\frac{Fs}{V} \\\\\n",
    "0 \\\\\n",
    "0\n",
    "\\end{bmatrix}\n",
    "\\cdot\n",
    "\\begin{bmatrix}\n",
    "C_{Ao}' \n",
    "\\end{bmatrix}\n",
    "$$\n",
    "\n"
   ]
  },
  {
   "cell_type": "code",
   "execution_count": 58,
   "id": "4a9700c8",
   "metadata": {},
   "outputs": [],
   "source": [
    "#-------------------------------A Matrix----------------------------------------------\n",
    "a11 = -Fs/V-k*Cbs**3\n",
    "a12 = -3*k*Cas*Cbs**2\n",
    "a13 = 0\n",
    "a21 = -3*k*Cbs**3\n",
    "a22 = -Fs/V-9*k*Cas*Cbs**2\n",
    "a23 = 0\n",
    "a31 = 2*k*Cbs**3\n",
    "a32 = 6*k*Cas*Cbs**2\n",
    "a33 = -Fs/V\n",
    "#---------------------B Matrix (coefficients of MV)-----------------------------------\n",
    "b1 = (Caos-Cas)/V\n",
    "b2 = (Cbos-Cbs)/V\n",
    "b3 = -Ccs/V\n",
    "#---------------------E Matrix (coefficients of DV)-----------------------------------\n",
    "e1 = Fs/V\n",
    "e2 = 0\n",
    "e3 = 0"
   ]
  },
  {
   "cell_type": "markdown",
   "id": "1386f933",
   "metadata": {},
   "source": [
    "## Finding Gp(s)"
   ]
  },
  {
   "cell_type": "code",
   "execution_count": 59,
   "id": "228275df",
   "metadata": {},
   "outputs": [],
   "source": [
    "A = sp.Matrix([[a11,a12,a13],[a21,a22,a23],[a31,a32,a33]])    #Coefficients of Ca, Cb, Cc\n",
    "B = sp.Matrix([[b1],[b2],[b3]])                               #Coefficients of MV\n",
    "E = sp.Matrix([[e1],[e2],[e3]])                               #Coefficients of DV\n",
    "C = sp.Matrix([[0,0,1]])                                      #Indicates controlled variable is Cc\n",
    "I = sp.eye(A.shape[0])"
   ]
  },
  {
   "cell_type": "code",
   "execution_count": 60,
   "id": "d7e0dbb1",
   "metadata": {},
   "outputs": [
    {
     "data": {
      "text/latex": [
       "$\\displaystyle \\frac{Cc}{F} = \\frac{26457 \\left(- 269586130178937 s^{2} - 679357048050910 s - 427994940272065\\right)}{25 \\cdot \\left(808758390536811 s^{3} + 11778044077993900 s^{2} + 25828716614095900 s + 15463181029766200\\right)}$"
      ],
      "text/plain": [
       "Eq(Cc/F, 26457*(-269586130178937*s**2 - 679357048050910*s - 427994940272065)/(25*(808758390536811*s**3 + 11778044077993900*s**2 + 25828716614095900*s + 15463181029766200)))"
      ]
     },
     "metadata": {},
     "output_type": "display_data"
    }
   ],
   "source": [
    "Cc,F,s = sp.symbols('Cc,F,s')\n",
    "Gp1 = C*(s*I - A).inv()*B\n",
    "Gp1 = sp.nsimplify(Gp1[0,0]).simplify()\n",
    "display(sp.Eq(Cc/F,Gp1))"
   ]
  },
  {
   "cell_type": "markdown",
   "id": "41f72967",
   "metadata": {},
   "source": [
    "The transfer function above relates the outlet concentration of Ammonia ($C_c$) to the flow rate ($F$).\n",
    "\n",
    "We now need to find $\\frac{F}{P_s}$ so that we can multiply $\\frac{F}{P_s}$ by the transfer function $\\frac{C_c}{F}$ (above) in order to get the overall transfer function $\\frac{C_c}{P_s}$.\n"
   ]
  },
  {
   "cell_type": "markdown",
   "id": "c43a8721",
   "metadata": {},
   "source": [
    "### Method\n",
    "To do this we begin by finding x/Ps. That is, how does the stem position x change with the pressure supplied. "
   ]
  },
  {
   "cell_type": "code",
   "execution_count": 61,
   "id": "17089ac0",
   "metadata": {},
   "outputs": [],
   "source": [
    "d11 = 0\n",
    "d12 = 1\n",
    "d21 = -1/tau**2\n",
    "d22 = -2*ksi/tau\n",
    "\n",
    "f1 = 0\n",
    "f2 = Kp/tau**2"
   ]
  },
  {
   "cell_type": "code",
   "execution_count": 62,
   "id": "94de99d7",
   "metadata": {},
   "outputs": [],
   "source": [
    "A2 = sp.Matrix([[d11,d12],[d21,d22]])\n",
    "B2 = sp.Matrix([[f1],[f2]])\n",
    "C2 = sp.Matrix([[1,0]])\n",
    "I2 = sp.eye(A2.shape[0])"
   ]
  },
  {
   "cell_type": "code",
   "execution_count": 63,
   "id": "70c45851",
   "metadata": {},
   "outputs": [
    {
     "data": {
      "text/latex": [
       "$\\displaystyle \\frac{x}{Ps} = \\frac{1}{12 \\cdot \\left(100 s^{2} + 60 s + 1\\right)}$"
      ],
      "text/plain": [
       "Eq(x/Ps, 1/(12*(100*s**2 + 60*s + 1)))"
      ]
     },
     "metadata": {},
     "output_type": "display_data"
    }
   ],
   "source": [
    "x,Ps,s = sp.symbols('x,Ps,s')\n",
    "Gp2 = C2*(s*I2 - A2).inv()*B2\n",
    "Gp2 = sp.nsimplify(Gp2[0,0]).simplify()\n",
    "display(sp.Eq(x/Ps,Gp2))"
   ]
  },
  {
   "cell_type": "markdown",
   "id": "925b0c83",
   "metadata": {},
   "source": [
    "### The next step\n",
    "\n",
    "Now that we have $\\frac{x}{P_s}$, we can find $\\frac{F}{P_s}$. We know that after linearizing $f(x)$, $F' = k_1 \\cdot x'$ where $k_1$ is some constant.\n",
    "\n",
    "Re-arranging, we get that $x' = \\frac{F'}{k_1}$.\n",
    "\n",
    "We can substitute that into the equation above and find that $\\frac{F'}{P_s} = k_1 \\cdot \\frac{x}{P_s}$."
   ]
  },
  {
   "cell_type": "markdown",
   "id": "17c1e9f0",
   "metadata": {},
   "source": [
    "#### F\n",
    "$$F = C_{cv} \\cdot \\sqrt{x} \\cdot \\sqrt{\\frac{\\Delta P_{cv}}{SG}}$$\n",
    "\n",
    "After linearisation:\n",
    "$$F = C_{cv} \\cdot \\sqrt{\\frac{\\Delta P_{cv}}{SG}} \\cdot \\left(\\sqrt{x_s} + \\frac{x'}{2\\sqrt{x_s}}\\right)$$"
   ]
  },
  {
   "cell_type": "markdown",
   "id": "d0722b83",
   "metadata": {},
   "source": [
    "#### k1\n",
    "\n",
    "After expressing in terms of deviation variables, we find that k1 is given by:\n",
    "\n",
    "$$k_1 = \\frac{C_{cv}}{2} \\cdot \\sqrt{\\frac{\\Delta P_{cv}}{x_s \\cdot SG}}$$\n",
    "\n",
    "Substituting in the numerical values we know, we can multiply $k_1$ by the transfer function $\\frac{x}{P_s}$ to obtain a new transfer function $\\frac{F}{P_s}$ shown below."
   ]
  },
  {
   "cell_type": "code",
   "execution_count": 53,
   "id": "166189b3",
   "metadata": {},
   "outputs": [
    {
     "data": {
      "text/latex": [
       "$\\displaystyle \\frac{F}{Ps} = \\frac{0.0700167825648624}{100 s^{2} + 60 s + 1}$"
      ],
      "text/plain": [
       "Eq(F/Ps, 0.0700167825648624/(100*s**2 + 60*s + 1))"
      ]
     },
     "metadata": {},
     "output_type": "display_data"
    }
   ],
   "source": [
    "F,Ps,s = sp.symbols('F,Ps,s')\n",
    "Gp3 = Gp2*(Ccv/2*(deltaP_cv/xs/SG)**0.5) \n",
    "display(sp.Eq(F/Ps,Gp3))"
   ]
  },
  {
   "cell_type": "code",
   "execution_count": 54,
   "id": "cdaf0618",
   "metadata": {},
   "outputs": [
    {
     "data": {
      "text/latex": [
       "$\\displaystyle \\frac{Cc}{Ps} = \\frac{74.0973606527426 \\left(- 269586130178937 s^{2} - 679357048050910 s - 427994940272065\\right)}{\\left(100 s^{2} + 60 s + 1\\right) \\left(808758390536811 s^{3} + 11778044077993900 s^{2} + 25828716614095900 s + 15463181029766200\\right)}$"
      ],
      "text/plain": [
       "Eq(Cc/Ps, 74.0973606527426*(-269586130178937*s**2 - 679357048050910*s - 427994940272065)/((100*s**2 + 60*s + 1)*(808758390536811*s**3 + 11778044077993900*s**2 + 25828716614095900*s + 15463181029766200)))"
      ]
     },
     "metadata": {},
     "output_type": "display_data"
    }
   ],
   "source": [
    "Gp = Gp1*Gp3\n",
    "\n",
    "Cc,Ps,s = sp.symbols('Cc,Ps,s')\n",
    "display(sp.Eq(Cc/Ps,Gp))"
   ]
  },
  {
   "cell_type": "markdown",
   "id": "d23fa4c4",
   "metadata": {},
   "source": [
    "## Finding Gd(s)\n",
    "\n",
    "All that remains to find Gd(s) is to switch out the B matrix with the E matrix defined before to find the contribution made by the disturbance variable."
   ]
  },
  {
   "cell_type": "code",
   "execution_count": 69,
   "id": "3dbb19fb",
   "metadata": {},
   "outputs": [
    {
     "data": {
      "text/latex": [
       "$\\displaystyle \\frac{Cc}{C_{Ao}} = \\frac{252 \\cdot \\left(109015022377282 s + 137358928195375\\right)}{5 \\cdot \\left(808758390536811 s^{3} + 11778044077993900 s^{2} + 25828716614095900 s + 15463181029766200\\right)}$"
      ],
      "text/plain": [
       "Eq(Cc/C_Ao, 252*(109015022377282*s + 137358928195375)/(5*(808758390536811*s**3 + 11778044077993900*s**2 + 25828716614095900*s + 15463181029766200)))"
      ]
     },
     "metadata": {},
     "output_type": "display_data"
    }
   ],
   "source": [
    "Cc,C_Ao,s = sp.symbols('Cc,C_Ao,s')\n",
    "Gd = C*(s*I - A).inv()*E\n",
    "Gd = sp.nsimplify(Gd[0,0]).simplify()\n",
    "display(sp.Eq(Cc/C_Ao,Gd))"
   ]
  },
  {
   "cell_type": "code",
   "execution_count": 70,
   "id": "486caff6",
   "metadata": {},
   "outputs": [],
   "source": [
    "# Hein add your code about the poles etc. "
   ]
  },
  {
   "cell_type": "markdown",
   "id": "557f8d36",
   "metadata": {},
   "source": [
    "# Task 2: Block Diagram"
   ]
  },
  {
   "cell_type": "markdown",
   "id": "213982e0",
   "metadata": {},
   "source": [
    "![Block Diagram](Block_Diagram.png)"
   ]
  },
  {
   "cell_type": "code",
   "execution_count": null,
   "id": "042f5473",
   "metadata": {},
   "outputs": [],
   "source": []
  },
  {
   "cell_type": "code",
   "execution_count": null,
   "id": "ee72e428",
   "metadata": {},
   "outputs": [],
   "source": []
  },
  {
   "cell_type": "code",
   "execution_count": null,
   "id": "55c8a7ff",
   "metadata": {},
   "outputs": [],
   "source": []
  },
  {
   "cell_type": "code",
   "execution_count": 13,
   "id": "c7df090c",
   "metadata": {},
   "outputs": [
    {
     "ename": "SyntaxError",
     "evalue": "incomplete input (3727379525.py, line 2)",
     "output_type": "error",
     "traceback": [
      "\u001b[0;36m  Cell \u001b[0;32mIn[13], line 2\u001b[0;36m\u001b[0m\n\u001b[0;31m    #fill in function\u001b[0m\n\u001b[0m                     ^\u001b[0m\n\u001b[0;31mSyntaxError\u001b[0m\u001b[0;31m:\u001b[0m incomplete input\n"
     ]
    }
   ],
   "source": [
    "def rates(var):\n",
    "    #fill in function"
   ]
  },
  {
   "cell_type": "code",
   "execution_count": null,
   "id": "418657c8",
   "metadata": {},
   "outputs": [],
   "source": [
    "def flow_valve(x):\n",
    "    #fill in function"
   ]
  },
  {
   "cell_type": "code",
   "execution_count": 10,
   "id": "d1877fae",
   "metadata": {},
   "outputs": [],
   "source": [
    "def ManiVar(t):\n",
    "    return Pso if t<step_time else Pso + delta_Ps"
   ]
  },
  {
   "cell_type": "code",
   "execution_count": null,
   "id": "7588c54c",
   "metadata": {},
   "outputs": [],
   "source": []
  },
  {
   "cell_type": "code",
   "execution_count": null,
   "id": "1c4f1567",
   "metadata": {},
   "outputs": [],
   "source": [
    "def diff(t,var,MV):\n",
    "    #fill in function"
   ]
  },
  {
   "cell_type": "code",
   "execution_count": 7,
   "id": "7183138e",
   "metadata": {},
   "outputs": [],
   "source": [
    "def Euler(t,dt,var,MV):\n",
    "    de_var = diff(t,var,MV)\n",
    "    var = de_var*dt + var\n",
    "    return var"
   ]
  },
  {
   "cell_type": "code",
   "execution_count": 8,
   "id": "e02c70aa",
   "metadata": {},
   "outputs": [],
   "source": [
    "def Euler_Integration(tspan,dt,ss_var):\n",
    "    Values = []\n",
    "    var = ss_var\n",
    "    for i,t in enumerate(tspan):\n",
    "        MV = ManiVar(t)\n",
    "        var = Euler(t,dt,var,MV)\n",
    "        Values.append(var)\n",
    "    return Values"
   ]
  },
  {
   "cell_type": "code",
   "execution_count": null,
   "id": "00508d07",
   "metadata": {},
   "outputs": [],
   "source": []
  }
 ],
 "metadata": {
  "kernelspec": {
   "display_name": "Python 3 (ipykernel)",
   "language": "python",
   "name": "python3"
  },
  "language_info": {
   "codemirror_mode": {
    "name": "ipython",
    "version": 3
   },
   "file_extension": ".py",
   "mimetype": "text/x-python",
   "name": "python",
   "nbconvert_exporter": "python",
   "pygments_lexer": "ipython3",
   "version": "3.10.9"
  }
 },
 "nbformat": 4,
 "nbformat_minor": 5
}
