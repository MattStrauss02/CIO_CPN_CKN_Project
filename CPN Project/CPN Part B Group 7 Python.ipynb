{
 "cells": [
  {
   "cell_type": "code",
   "execution_count": 1,
   "id": "fe2a6fae",
   "metadata": {},
   "outputs": [],
   "source": [
    "import numpy as np\n",
    "import pandas as pd\n",
    "import scipy as sp\n",
    "from matplotlib import pyplot as plt"
   ]
  },
  {
   "cell_type": "code",
   "execution_count": null,
   "id": "15ac82e3",
   "metadata": {},
   "outputs": [],
   "source": []
  },
  {
   "cell_type": "code",
   "execution_count": 14,
   "id": "f4e8e7dd",
   "metadata": {},
   "outputs": [],
   "source": [
    "#Fill in parameters needed to get k and the function k(T)"
   ]
  },
  {
   "cell_type": "code",
   "execution_count": 15,
   "id": "aa17d78e",
   "metadata": {},
   "outputs": [],
   "source": [
    "#Fill in SS values gathered as found in the memo"
   ]
  },
  {
   "cell_type": "code",
   "execution_count": 16,
   "id": "6248d91a",
   "metadata": {},
   "outputs": [],
   "source": [
    "#Fill in parameters like tau, ksi, Ccv, etc."
   ]
  },
  {
   "cell_type": "code",
   "execution_count": 13,
   "id": "c7df090c",
   "metadata": {},
   "outputs": [
    {
     "ename": "SyntaxError",
     "evalue": "incomplete input (3727379525.py, line 2)",
     "output_type": "error",
     "traceback": [
      "\u001b[0;36m  Cell \u001b[0;32mIn[13], line 2\u001b[0;36m\u001b[0m\n\u001b[0;31m    #fill in function\u001b[0m\n\u001b[0m                     ^\u001b[0m\n\u001b[0;31mSyntaxError\u001b[0m\u001b[0;31m:\u001b[0m incomplete input\n"
     ]
    }
   ],
   "source": [
    "def rates(var):\n",
    "    #fill in function"
   ]
  },
  {
   "cell_type": "code",
   "execution_count": null,
   "id": "418657c8",
   "metadata": {},
   "outputs": [],
   "source": [
    "def flow_valve(x):\n",
    "    #fill in function"
   ]
  },
  {
   "cell_type": "code",
   "execution_count": 10,
   "id": "d1877fae",
   "metadata": {},
   "outputs": [],
   "source": [
    "def ManiVar(t):\n",
    "    return Pso if t<step_time else Pso + delta_Ps"
   ]
  },
  {
   "cell_type": "code",
   "execution_count": null,
   "id": "7588c54c",
   "metadata": {},
   "outputs": [],
   "source": []
  },
  {
   "cell_type": "code",
   "execution_count": null,
   "id": "1c4f1567",
   "metadata": {},
   "outputs": [],
   "source": [
    "def diff(t,var,MV):\n",
    "    #fill in function"
   ]
  },
  {
   "cell_type": "code",
   "execution_count": 7,
   "id": "7183138e",
   "metadata": {},
   "outputs": [],
   "source": [
    "def Euler(t,dt,var,MV):\n",
    "    de_var = diff(t,var,MV)\n",
    "    var = de_var*dt + var\n",
    "    return var"
   ]
  },
  {
   "cell_type": "code",
   "execution_count": 8,
   "id": "e02c70aa",
   "metadata": {},
   "outputs": [],
   "source": [
    "def Euler_Integration(tspan,dt,ss_var):\n",
    "    Values = []\n",
    "    var = ss_var\n",
    "    for i,t in enumerate(tspan):\n",
    "        MV = ManiVar(t)\n",
    "        var = Euler(t,dt,var,MV)\n",
    "        Values.append(var)\n",
    "    return Values"
   ]
  },
  {
   "cell_type": "code",
   "execution_count": null,
   "id": "00508d07",
   "metadata": {},
   "outputs": [],
   "source": []
  }
 ],
 "metadata": {
  "kernelspec": {
   "display_name": "Python 3 (ipykernel)",
   "language": "python",
   "name": "python3"
  },
  "language_info": {
   "codemirror_mode": {
    "name": "ipython",
    "version": 3
   },
   "file_extension": ".py",
   "mimetype": "text/x-python",
   "name": "python",
   "nbconvert_exporter": "python",
   "pygments_lexer": "ipython3",
   "version": "3.10.9"
  }
 },
 "nbformat": 4,
 "nbformat_minor": 5
}
