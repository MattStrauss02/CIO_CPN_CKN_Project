{
 "cells": [
  {
   "cell_type": "markdown",
   "id": "e591620b",
   "metadata": {},
   "source": [
    "# CPN Project Task A\n",
    "\n",
    "## Group 7\n",
    "\n",
    "- Marco Arnold\n",
    "- Hein Boonstra\n",
    "- David Bender\n",
    "- Lourens Olivier\n",
    "- Matthew Strauss\n"
   ]
  },
  {
   "attachments": {},
   "cell_type": "markdown",
   "id": "1ec53298",
   "metadata": {},
   "source": [
    "## Task 2 – System Identification:"
   ]
  },
  {
   "attachments": {},
   "cell_type": "markdown",
   "id": "55c44aa4",
   "metadata": {},
   "source": [
    "| System Variable         | Assigned Variable        |\n",
    "|-------------------------|--------------------------|\n",
    "| (1) Manipulated variable | Flow rate to reactor      |\n",
    "| (2) Control variable     | Production rate of ammonia|\n",
    "| (3) Disturbance variable | Feed Composition          |\n",
    "| (4) Final control element| Valve                     |\n",
    "\n",
    "Reasons for assigning System variable (1)-(4):\n",
    "1. It can be easily controlled by adjusting the position of the valve.\n",
    "2. We are told to produce high volumes of ammonia no matter what. \n",
    "3. The boss has told us the feed composition can vary and this is a disturbance. \n",
    "4. By adjusting the valve, the flowrate to the reactor (manipulated variable) changes. "
   ]
  },
  {
   "attachments": {},
   "cell_type": "markdown",
   "id": "a30361dd",
   "metadata": {},
   "source": [
    "## Task 3 – System Equations and Assumptions:"
   ]
  },
  {
   "cell_type": "markdown",
   "id": "73e9a8bc",
   "metadata": {},
   "source": [
    "#### Conservative Equations\n",
    "\n",
    "\\begin{aligned}\n",
    "\\frac{dy(t)}{dt} &= \\frac{K_p P s(t)}{\\tau^2} - \\frac{2 \\zeta y(t)}{\\tau} - \\frac{x(t)}{\\tau^2} &...(1) \\\\\n",
    "\\frac{dx(t)}{dt} &= y(t) &...(2) \\\\\n",
    "\\frac{dC_{NH_3}}{dt} &= \\frac{FC_{NH3,in}}{V} - \\frac{FC_{NH3}}{V} + 2kC_{N_2}C_{H_2}^3 &...(3)\\\\\n",
    "\\frac{dC_{H_2}}{dt} &= \\frac{FC_{H2,in}}{V} - \\frac{FC_{H2}}{V} - 3kC_{N_2}C_{H_2}^3 &...(4)\\\\\n",
    "\\frac{dC_{N_2}}{dt} &= \\frac{FC_{N2,in}}{V} - \\frac{FC_{N2}}{V} - kC_{N_2}C_{H_2}^3 &...(5)\\\\\n",
    "\\end{aligned}\n",
    "\n",
    "#### Constitutive equations\n",
    "\\begin{aligned}\n",
    "F &= C_{cv} f(x(t))\\sqrt{\\frac{\\Delta P_{CV}}{SG}} &...(6)\\\\\n",
    "f(x(t)) &= \\sqrt{x(t)} &...(7)\\\\\n",
    "k &= k_0 e^{-\\frac{E_a}{RT}} &...(8)\n",
    "\\end{aligned}\n",
    "\n"
   ]
  },
  {
   "attachments": {},
   "cell_type": "markdown",
   "id": "0c0ce230",
   "metadata": {},
   "source": [
    "## Task 4 – Steady State Calculations Using Python:"
   ]
  },
  {
   "cell_type": "code",
   "execution_count": null,
   "id": "028ae35f",
   "metadata": {},
   "outputs": [],
   "source": []
  },
  {
   "attachments": {},
   "cell_type": "markdown",
   "id": "3944d46b",
   "metadata": {},
   "source": [
    "## Task 5 – Steady State Simulation Using DWSIM:"
   ]
  },
  {
   "attachments": {},
   "cell_type": "markdown",
   "id": "302560b6",
   "metadata": {},
   "source": [
    "## Task 6 – Transient System Response:"
   ]
  },
  {
   "attachments": {},
   "cell_type": "markdown",
   "id": "1c30308c",
   "metadata": {},
   "source": [
    "## Task 7 – FOPDT Fitting and Determination of Kp, Tau and Theta:"
   ]
  },
  {
   "cell_type": "code",
   "execution_count": null,
   "id": "e435a66a",
   "metadata": {},
   "outputs": [],
   "source": []
  }
 ],
 "metadata": {
  "kernelspec": {
   "display_name": "Python 3 (ipykernel)",
   "language": "python",
   "name": "python3"
  },
  "language_info": {
   "codemirror_mode": {
    "name": "ipython",
    "version": 3
   },
   "file_extension": ".py",
   "mimetype": "text/x-python",
   "name": "python",
   "nbconvert_exporter": "python",
   "pygments_lexer": "ipython3",
   "version": "3.10.9"
  }
 },
 "nbformat": 4,
 "nbformat_minor": 5
}
