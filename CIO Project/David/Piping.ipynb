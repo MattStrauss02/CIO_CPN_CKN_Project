{
 "cells": [
  {
   "cell_type": "code",
   "execution_count": 11,
   "id": "54fc76f4",
   "metadata": {},
   "outputs": [
    {
     "name": "stdout",
     "output_type": "stream",
     "text": [
      "0.09666666666666666\n",
      "0.3508273402369496\n"
     ]
    }
   ],
   "source": [
    "import numpy as np\n",
    "#Highest volumetric flow rate\n",
    "W=74.8\n",
    "Wph=74.8*3600\n",
    "vis=0.00899 # from Matt code\n",
    "volh=2.9 #m3/s\n",
    "vela=30 #m/s\n",
    "a=volh/vela\n",
    "print(a)\n",
    "din=(4*a/np.pi)**0.5\n",
    "print(din)\n",
    "dinmm=din*1000\n",
    "Re=354*Wph/(dinmm*vis)\n",
    "\n",
    "def Haaland(e,D,Re):\n",
    "    oneoverroot=\n",
    "delPf="
   ]
  }
 ],
 "metadata": {
  "kernelspec": {
   "display_name": "Python 3 (ipykernel)",
   "language": "python",
   "name": "python3"
  },
  "language_info": {
   "codemirror_mode": {
    "name": "ipython",
    "version": 3
   },
   "file_extension": ".py",
   "mimetype": "text/x-python",
   "name": "python",
   "nbconvert_exporter": "python",
   "pygments_lexer": "ipython3",
   "version": "3.9.12"
  }
 },
 "nbformat": 4,
 "nbformat_minor": 5
}
