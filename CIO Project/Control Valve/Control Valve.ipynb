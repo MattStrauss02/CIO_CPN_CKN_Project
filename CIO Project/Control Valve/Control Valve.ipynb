{
 "cells": [
  {
   "cell_type": "code",
   "execution_count": 1,
   "metadata": {},
   "outputs": [],
   "source": [
    "import numpy as np\n",
    "import sympy as sp"
   ]
  },
  {
   "cell_type": "markdown",
   "metadata": {},
   "source": [
    "**System**\n",
    "\n",
    "![Full Diagram](Full_diagram_CV.jpg)"
   ]
  },
  {
   "cell_type": "markdown",
   "metadata": {},
   "source": [
    "**Specify System**"
   ]
  },
  {
   "cell_type": "code",
   "execution_count": 2,
   "metadata": {},
   "outputs": [
    {
     "name": "stdout",
     "output_type": "stream",
     "text": [
      "The volumetric flowrate is 115.43352798419794 m3/h\n",
      "The design volumetric flowrate is 132.7485571818276 m3/h\n"
     ]
    }
   ],
   "source": [
    "P1 = 200     # kPa\n",
    "P2 = 101.325 # kPa\n",
    "Lp = 30      # m\n",
    "\n",
    "# mass flow rate \n",
    "m = 30.84319738  #kg/s\n",
    "\n",
    "# density of water at 95C\n",
    "ρ = 961.9  #kg/m3\n",
    "\n",
    "# viscosity water at 95C\n",
    "μ = 0.2971\n",
    "\n",
    "Vn = (m/ρ)*3600\n",
    "print('The volumetric flowrate is {} m3/h'.format(Vn))\n",
    "\n",
    "# Choose Vd = 1.15Vn\n",
    "Vd = 1.15*Vn\n",
    "print('The design volumetric flowrate is {} m3/h'.format(Vd))"
   ]
  },
  {
   "cell_type": "markdown",
   "metadata": {},
   "source": [
    "**MEB**\n",
    "\n",
    "![Full eq](Full_form.png)\n",
    "\n",
    "**Using MEB to find Delta TV**"
   ]
  },
  {
   "cell_type": "code",
   "execution_count": 3,
   "metadata": {},
   "outputs": [
    {
     "name": "stdout",
     "output_type": "stream",
     "text": [
      "ΔP_TV = 98.675 kPa\n"
     ]
    }
   ],
   "source": [
    "ΔP_EP = P2-P1\n",
    "ΔP_TV = -ΔP_EP\n",
    "\n",
    "print('ΔP_TV = {} kPa'.format(ΔP_TV ))"
   ]
  },
  {
   "cell_type": "markdown",
   "metadata": {},
   "source": [
    "**Delta TV = Delta STV + Delta CV**\n",
    "\n",
    "Choose Delta CV = 0.3Delta STV - RULE 2(d)"
   ]
  },
  {
   "cell_type": "code",
   "execution_count": 4,
   "metadata": {},
   "outputs": [
    {
     "name": "stdout",
     "output_type": "stream",
     "text": [
      "ΔP_STV = 75.90384615384615 kPa\n"
     ]
    }
   ],
   "source": [
    "ΔP_STV = ΔP_TV/1.3\n",
    "print('ΔP_STV = {} kPa'.format(ΔP_STV ))"
   ]
  },
  {
   "cell_type": "markdown",
   "metadata": {},
   "source": [
    "![Full Diagram](Delpf.png)"
   ]
  },
  {
   "cell_type": "code",
   "execution_count": 5,
   "metadata": {},
   "outputs": [
    {
     "name": "stdout",
     "output_type": "stream",
     "text": [
      "Diameter is 117.321107379258 mm\n"
     ]
    }
   ],
   "source": [
    "ΔP_f = ΔP_STV\n",
    "\n",
    "#Assume f = 0.02 and that pipe diameter gets 25% bigger before and after control valve\n",
    "f = 0.02\n",
    "do = 0.25\n",
    "d = sp.symbols('d')\n",
    "L_gate_valve = 13*(1+do)*(d/1000)\n",
    "L_reducer = (0.2*(1+do)*(d/1000))/f\n",
    "L_enlarger = (0.125*(d/1000))/f\n",
    "L_globe_valve = 340*(d/1000)\n",
    "L_entrance = (0.5*(1+do)*(d/1000))/f\n",
    "\n",
    "Lr = 2*L_gate_valve + L_reducer + L_enlarger + L_globe_valve + L_entrance\n",
    "\n",
    "Le = Lp + Lr\n",
    "\n",
    "equation = ((62544*f*Le*(Vd**2)*ρ)/(d**5)) - ΔP_STV\n",
    "\n",
    "d_solution = sp.solve(equation,d)\n",
    "print('Diameter is {} mm'.format(d_solution[0]))"
   ]
  },
  {
   "cell_type": "markdown",
   "metadata": {},
   "source": [
    "**Choose Dnom**"
   ]
  },
  {
   "cell_type": "code",
   "execution_count": 6,
   "metadata": {},
   "outputs": [
    {
     "name": "stdout",
     "output_type": "stream",
     "text": [
      "The inner diameter is 157.1 mm\n",
      "Reynolds number is 968465.5114490531\n",
      "The real f is 0.015555563539544933\n"
     ]
    }
   ],
   "source": [
    "dnom = 150 #mm\n",
    "OD = 165.1 #mm\n",
    "thickness = 4 #mm\n",
    "ϵ = 0.046 #mm\n",
    "\n",
    "ID = OD- 2*thickness\n",
    "print('The inner diameter is {} mm'.format(ID))\n",
    "\n",
    "Re = (354*Vd*ρ)/(ID*μ)\n",
    "print('Reynolds number is {}'.format(Re))\n",
    "\n",
    "f_real = 1/(-1.8*np.log10(((ϵ/ID)/3.7)**1.11 + 6.9/Re))**2\n",
    "\n",
    "print('The real f is {}'.format(f_real))"
   ]
  },
  {
   "cell_type": "code",
   "execution_count": 7,
   "metadata": {},
   "outputs": [
    {
     "name": "stdout",
     "output_type": "stream",
     "text": [
      "The real ΔPf = 16.99576626117652 kPa\n"
     ]
    }
   ],
   "source": [
    "L_gate_valve_r = 13*(1+do)*(ID/1000)\n",
    "L_reducer_r = (0.2*(1+do)*(ID/1000))/f_real\n",
    "L_enlarger_r = (0.125*(ID/1000))/f_real\n",
    "L_globe_valve_r = 340*(ID/1000)\n",
    "L_entrance_r = (0.5*(1+do)*(ID/1000))/f_real\n",
    "\n",
    "Lr_r = 2*L_gate_valve_r + L_reducer_r + L_enlarger_r + L_globe_valve_r + L_entrance_r\n",
    "Le_r = Lp + Lr_r\n",
    "\n",
    "ΔP_f_real = (62544*f_real*Le_r*(Vd**2)*ρ)/ID**5\n",
    "print('The real ΔPf = {} kPa'. format(ΔP_f_real))"
   ]
  },
  {
   "cell_type": "markdown",
   "metadata": {},
   "source": [
    "**Now Delta CV**"
   ]
  },
  {
   "cell_type": "code",
   "execution_count": 8,
   "metadata": {},
   "outputs": [
    {
     "name": "stdout",
     "output_type": "stream",
     "text": [
      "ΔP_CV = 81.67923373882348 kPa\n",
      "ΔP_CV_psi = 11.846592703011481 psi\n",
      "The f(x) = 0.616836609955863\n"
     ]
    }
   ],
   "source": [
    "ΔP_CV = ΔP_TV - ΔP_f_real\n",
    "print('ΔP_CV = {} kPa'.format(ΔP_CV))\n",
    "ΔP_CV_psi = ΔP_CV*0.145038\n",
    "print('ΔP_CV_psi = {} psi'.format(ΔP_CV_psi))\n",
    "\n",
    "C_cv = 270 #for single port\n",
    "Vd_gal = Vd*4.40287\n",
    "SG = ρ/1000\n",
    "\n",
    "#Now check f(x)\n",
    "fx = Vd_gal/(np.sqrt(ΔP_CV_psi/SG)*C_cv)\n",
    "print('The f(x) = {}'.format(fx))"
   ]
  },
  {
   "cell_type": "markdown",
   "metadata": {},
   "source": [
    "**0.1 < f(x) < 1**"
   ]
  },
  {
   "cell_type": "code",
   "execution_count": 9,
   "metadata": {},
   "outputs": [
    {
     "name": "stdout",
     "output_type": "stream",
     "text": [
      "Velocity just before heat exchanger is 1.0586860509495326 m/s\n",
      "Velocity at controlvalve is 1.6541969546086448 m/s\n"
     ]
    }
   ],
   "source": [
    "# Check velocity\n",
    "Area1 = (np.pi/4)*(((1+do)*ID)/1000)**2\n",
    "velocity1 = (Vn/3600)/Area1\n",
    "print('Velocity just before heat exchanger is {} m/s'.format(velocity1))\n",
    "\n",
    "Area2 = (np.pi/4)*((ID)/1000)**2\n",
    "velocity2 = (Vn/3600)/Area2\n",
    "print('Velocity at controlvalve is {} m/s'.format(velocity2))"
   ]
  },
  {
   "cell_type": "markdown",
   "metadata": {},
   "source": [
    "**Velocity must be between 1 m/s and 5 m/s**"
   ]
  }
 ],
 "metadata": {
  "kernelspec": {
   "display_name": "Python 3",
   "language": "python",
   "name": "python3"
  },
  "language_info": {
   "codemirror_mode": {
    "name": "ipython",
    "version": 3
   },
   "file_extension": ".py",
   "mimetype": "text/x-python",
   "name": "python",
   "nbconvert_exporter": "python",
   "pygments_lexer": "ipython3",
   "version": "3.8.3"
  }
 },
 "nbformat": 4,
 "nbformat_minor": 4
}
