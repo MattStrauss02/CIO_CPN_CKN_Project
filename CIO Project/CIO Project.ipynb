{
 "cells": [
  {
   "cell_type": "markdown",
   "id": "7f2ce9c9",
   "metadata": {},
   "source": [
    "Lets check if this repository works"
   ]
  },
  {
   "cell_type": "code",
   "execution_count": 1,
   "id": "20bf6ed9",
   "metadata": {},
   "outputs": [
    {
     "name": "stdout",
     "output_type": "stream",
     "text": [
      "Based on our hopes and dreams we will get 14.17% for the assignment\n"
     ]
    }
   ],
   "source": [
    "#Enter the mark out of 100 you hope to get for this assignment:\n",
    "mark1 = 85\n",
    "mark2 = 0\n",
    "mark3 = 0\n",
    "mark4 = 0\n",
    "mark5 = 0\n",
    "mark6 = 0\n",
    "\n",
    "print(\"Based on our hopes and dreams we will get {}% for the assignment\".format(round((mark1+mark2+mark3+mark4+mark5+mark6)/6,2)))"
   ]
  },
  {
   "cell_type": "code",
   "execution_count": null,
   "id": "a3420dd2",
   "metadata": {},
   "outputs": [],
   "source": []
  }
 ],
 "metadata": {
  "kernelspec": {
   "display_name": "Python 3 (ipykernel)",
   "language": "python",
   "name": "python3"
  },
  "language_info": {
   "codemirror_mode": {
    "name": "ipython",
    "version": 3
   },
   "file_extension": ".py",
   "mimetype": "text/x-python",
   "name": "python",
   "nbconvert_exporter": "python",
   "pygments_lexer": "ipython3",
   "version": "3.10.9"
  }
 },
 "nbformat": 4,
 "nbformat_minor": 5
}
