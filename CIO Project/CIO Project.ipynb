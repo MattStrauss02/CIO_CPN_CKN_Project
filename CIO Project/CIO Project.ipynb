{
 "cells": [
  {
   "cell_type": "markdown",
   "id": "37a34244",
   "metadata": {},
   "source": [
    "Lets check if this repository works"
   ]
  },
  {
   "cell_type": "code",
   "execution_count": 1,
   "id": "a9268e91",
   "metadata": {},
   "outputs": [
    {
     "name": "stdout",
     "output_type": "stream",
     "text": [
      "Based on our hopes and dreams we will get 84.8% for the assignment\n"
     ]
    }
   ],
   "source": [
    "#Enter the mark out of 100 you hope to get for this assignment:\n",
    "mark1 = 85   #Matt\n",
    "mark2 = 80   #Hein\n",
    "mark3 = 99   #David\n",
    "mark4 = 80   #Lourens\n",
    "mark5 = 80   #Marco\n",
    "\n",
    "\n",
    "print(\"Based on our hopes and dreams we will get {}% for the assignment\".format(round((mark1+mark2+mark3+mark4+mark5)/5,2)))"
   ]
  },
  {
   "cell_type": "code",
   "execution_count": null,
   "id": "16aafd3a",
   "metadata": {},
   "outputs": [],
   "source": [
    "https://www.youtube.com/watch?v=9P1iZBV-EKw\n",
    "    "
   ]
  }
 ],
 "metadata": {
  "kernelspec": {
   "display_name": "Python 3 (ipykernel)",
   "language": "python",
   "name": "python3"
  },
  "language_info": {
   "codemirror_mode": {
    "name": "ipython",
    "version": 3
   },
   "file_extension": ".py",
   "mimetype": "text/x-python",
   "name": "python",
   "nbconvert_exporter": "python",
   "pygments_lexer": "ipython3",
   "version": "3.9.12"
  }
 },
 "nbformat": 4,
 "nbformat_minor": 5
}
