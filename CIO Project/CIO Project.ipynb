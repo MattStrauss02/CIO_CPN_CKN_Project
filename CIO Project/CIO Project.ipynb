{
 "cells": [
  {
   "cell_type": "markdown",
   "metadata": {},
   "source": [
    "Lets check if this repository works"
   ]
  },
  {
   "cell_type": "code",
   "execution_count": 1,
   "metadata": {},
   "outputs": [
    {
     "name": "stdout",
     "output_type": "stream",
     "text": [
      "Based on our hopes and dreams we will get 84.8% for the assignment\n"
     ]
    }
   ],
   "source": [
    "#Enter the mark out of 100 you hope to get for this assignment:\n",
    "mark1 = 85   #Matt\n",
    "mark2 = 80   #Hein\n",
    "mark3 = 99   #David\n",
    "mark4 = 80   #Lourens\n",
    "mark5 = 80   #Marco\n",
    "\n",
    "\n",
    "print(\"Based on our hopes and dreams we will get {}% for the assignment\".format(round((mark1+mark2+mark3+mark4+mark5)/5,2)))"
   ]
  },
  {
   "cell_type": "code",
   "execution_count": null,
   "metadata": {},
   "outputs": [],
   "source": []
  }
 ],
 "metadata": {
  "kernelspec": {
   "display_name": "Python 3",
   "language": "python",
   "name": "python3"
  },
  "language_info": {
   "codemirror_mode": {
    "name": "ipython",
    "version": 3
   },
   "file_extension": ".py",
   "mimetype": "text/x-python",
   "name": "python",
   "nbconvert_exporter": "python",
   "pygments_lexer": "ipython3",
   "version": "3.8.3"
  }
 },
 "nbformat": 4,
 "nbformat_minor": 5
}
