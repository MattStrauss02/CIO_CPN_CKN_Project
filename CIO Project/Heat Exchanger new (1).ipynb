{
 "cells": [
  {
   "cell_type": "markdown",
   "metadata": {},
   "source": [
    "# Heat Exchanger\n",
    "\n",
    "## 1. Design without fins\n",
    "\n",
    "<img src='HX_no_fins.png' >\n",
    "\n",
    "Inner fluid is presented in blue.\n",
    "\n",
    "Outer fluid is presented as red dots."
   ]
  },
  {
   "cell_type": "code",
   "execution_count": 2,
   "metadata": {},
   "outputs": [],
   "source": [
    "import numpy as np\n",
    "from scipy.optimize import fsolve\n",
    "import scipy.special as sp"
   ]
  },
  {
   "cell_type": "code",
   "execution_count": 3,
   "metadata": {},
   "outputs": [],
   "source": [
    "#General Information\n",
    "Th_in = 350\n",
    "Th_out = 288.571\n",
    "\n",
    "Tc_in = 184\n",
    "Tc_out = 242\n",
    "\n",
    "Q = 7910.64*10**3 # W (From DWSIM using Coolprop)"
   ]
  },
  {
   "cell_type": "markdown",
   "metadata": {},
   "source": [
    "### Inner Pipe"
   ]
  },
  {
   "cell_type": "code",
   "execution_count": 22,
   "metadata": {},
   "outputs": [
    {
     "name": "stdout",
     "output_type": "stream",
     "text": [
      "The theoretical inner diameter is 0.35503621636219185 m.\n",
      "\n",
      "Choose 14 inch nom, schedule 60 with an inside diameter is 325.4756 mm. \n"
     ]
    }
   ],
   "source": [
    "#Inner pipe dimensions\n",
    "\n",
    "\n",
    "v_theo = 25 #m/s (Recommended velocity from piping book)\n",
    "vol_I= (2.33+2.62)/2 #m3/s using Coolprop (Average volumetric flowrate)\n",
    "\n",
    "a_theo = vol_I / v_theo #theoretical area\n",
    "d_theo = np.sqrt(4*a_theo/np.pi) #theoretical diameter\n",
    "print('The theoretical inner diameter is {} m.'.format(d_theo))\n",
    "print()\n",
    "print('Choose 14 inch nom, schedule 60 with an inside diameter is 325.4756 mm. ')\n"
   ]
  },
  {
   "cell_type": "code",
   "execution_count": 5,
   "metadata": {},
   "outputs": [
    {
     "name": "stdout",
     "output_type": "stream",
     "text": [
      "Velocity through the inside pipe is 29.74736137475995 m/s\n",
      "\n",
      "The outside diameter of the inside pipe is 355.59999999999997 mm\n"
     ]
    }
   ],
   "source": [
    "#Inner pipe flow (Hot fluid)\n",
    "\n",
    "d_i = 325.4756*10**-3 #m\n",
    "\n",
    "v_I= vol_I / (np.pi*(d_i)**2/4)\n",
    "\n",
    "t=15.0622*10**-3 #m (thickness of pipe)\n",
    "\n",
    "d_o = d_i+2*t #Outer diameter of inside pipe\n",
    "print('Velocity through the inside pipe is {} m/s'.format(v_I))\n",
    "\n",
    "\n",
    "print()\n",
    "print('The outside diameter of the inside pipe is {} mm'.format(d_o*1000))"
   ]
  },
  {
   "cell_type": "code",
   "execution_count": 6,
   "metadata": {},
   "outputs": [
    {
     "name": "stdout",
     "output_type": "stream",
     "text": [
      "Reynolds number for inner pipe flow is 11048105.367604155\n",
      "\n",
      "Prandtl number for inner pipe fluid is 0.7265860852072219\n",
      "\n",
      "The friction factor of the inner pipe is 0.012937752792914158 .\n",
      "\n",
      "Inner pipe Nusselt number is 13355.369377295065\n",
      "\n",
      "The inner convective heat transfer coefficient is 3610.3439162443974 W/m2K\n"
     ]
    }
   ],
   "source": [
    "#Inner pipe properties\n",
    "\n",
    "e = 0.046/1000   #Absolute roughness of steel in meters\n",
    "Rho_I = (22.984+20.438)/2 #Kg/m3\n",
    "Cp_I = (3.37+3.35)/2*10**3 #J/KgK\n",
    "K_I = (0.084581+0.09139)/2 #W/mK\n",
    "mu_I = (1.83+1.9753)/2*10**-5 #Pa.s\n",
    "\n",
    "Re_I = Rho_I*v_I*d_i/mu_I\n",
    "\n",
    "print('Reynolds number for inner pipe flow is {}'.format(Re_I))\n",
    "print()\n",
    "\n",
    "Pr_I = mu_I*Cp_I/K_I\n",
    "\n",
    "print('Prandtl number for inner pipe fluid is {}'.format(Pr_I))\n",
    "print()\n",
    "\n",
    "def friction(x):\n",
    "    LHS=1/np.sqrt(x)\n",
    "    RHS=-2*np.log10(e/d_i/3.7+2.51/Re_I/np.sqrt(x))\n",
    "    return LHS-RHS\n",
    "\n",
    "f_I = fsolve(friction,0.02)      #friction factor inside tube\n",
    "\n",
    "print('The friction factor of the inner pipe is {} .'.format(float(f_I)))\n",
    "print()\n",
    "\n",
    "Nu_I = (f_I/8)*Re_I*Pr_I/(1.07+12.7*(f_I/8)**0.5*(Pr_I**(2/3)-1)) #Second Petukhov\n",
    "print('Inner pipe Nusselt number is {}'.format(float(Nu_I)))\n",
    "print()\n",
    "\n",
    "h_I = K_I*Nu_I/d_i\n",
    "print('The inner convective heat transfer coefficient is {} W/m2K'.format(float(h_I)))\n",
    "     \n",
    "      \n",
    "\n",
    "\n",
    " \n"
   ]
  },
  {
   "cell_type": "code",
   "execution_count": null,
   "metadata": {},
   "outputs": [],
   "source": []
  },
  {
   "cell_type": "markdown",
   "metadata": {},
   "source": [
    "### Outer Pipe"
   ]
  },
  {
   "cell_type": "code",
   "execution_count": 7,
   "metadata": {},
   "outputs": [
    {
     "name": "stdout",
     "output_type": "stream",
     "text": [
      "Choose 20 inch nom, schedule 60 with an inside diameter of 466.7504 mm\n",
      "\n",
      "The area of the annulus is 0.07178898603810834 m2\n"
     ]
    }
   ],
   "source": [
    "#Outer pipe dimensions\n",
    "\n",
    "vol_O = (1.65311+1.87441)/2 #m3/s (Volumetric flowrate of outer pipe)\n",
    "\n",
    "\n",
    "print(\"Choose 20 inch nom, schedule 60 with an inside diameter of 466.7504 mm\")\n",
    "print()\n",
    "\n",
    "D_i = 466.7504*10**-3 #m (Inner diameter of outer pipe)\n",
    "\n",
    "A = np.pi*(D_i**2 - d_o**2)/4  #m2 (Area of annulus)\n",
    "print('The area of the annulus is {} m2'.format(A))\n"
   ]
  },
  {
   "cell_type": "code",
   "execution_count": 8,
   "metadata": {},
   "outputs": [
    {
     "name": "stdout",
     "output_type": "stream",
     "text": [
      "The velocity through the outer pipe is 24.568671287037386 m/s\n"
     ]
    }
   ],
   "source": [
    "#Outer pipe flow\n",
    "v_O = vol_O / A\n",
    "print('The velocity through the outer pipe is {} m/s'.format(v_O))\n"
   ]
  },
  {
   "cell_type": "code",
   "execution_count": 9,
   "metadata": {
    "scrolled": true
   },
   "outputs": [
    {
     "name": "stdout",
     "output_type": "stream",
     "text": [
      "Reynolds number for outer pipe flow is 3704411.2787905475\n",
      "\n",
      "Prandtl number for outer pipe fluid is 0.6893517045106802\n",
      "\n",
      "The friction factor of the outer pipe is 0.009409914155319278 .\n",
      "\n",
      "Outer pipe Nusselt number is 3320.554367434547\n",
      "\n",
      "The outer convective heat transfer coefficient is 2440.591208376805 W/m2K\n"
     ]
    }
   ],
   "source": [
    "#Outer pipe propperties\n",
    "\n",
    "Rho_O = (20.4285+23.1633)/2 #Kg/m3\n",
    "Cp_O = (3.49+3.52)/2*10**3  #J/KgK\n",
    "K_O =  (0.08488+0.07851)/2 #W/mK\n",
    "mu_O = ((1.6705+1.543)/2)*10**-5 #Pa.s\n",
    "\n",
    "\n",
    "D_h = D_i - d_o #Hydraulic diameter\n",
    "\n",
    "\n",
    "Re_O = Rho_O*v_O*(D_h)/mu_O \n",
    "\n",
    "print('Reynolds number for outer pipe flow is {}'.format(Re_O))\n",
    "print()\n",
    "\n",
    "Pr_O = mu_O*Cp_O/K_O\n",
    "\n",
    "print('Prandtl number for outer pipe fluid is {}'.format(Pr_O))\n",
    "print()\n",
    "\n",
    "f_O = (0.79*np.log(Re_O)-1.64)**-2 #Assume flow to be smooth (Recommended formula from textbook)\n",
    "\n",
    "\n",
    "print('The friction factor of the outer pipe is {} .'.format(float(f_O)))\n",
    "print()\n",
    "\n",
    "Nu_O = (f_O/8)*(Re_O-1000)*Pr_O/(1+12.7*(f_O/8)**0.5*(Pr_O**(2/3)-1)) #Gnielinski\n",
    "print('Outer pipe Nusselt number is {}'.format(float(Nu_O)))\n",
    "print()\n",
    "\n",
    "h_O = K_O*Nu_O/D_h\n",
    "print('The outer convective heat transfer coefficient is {} W/m2K'.format(float(h_O)))"
   ]
  },
  {
   "cell_type": "code",
   "execution_count": null,
   "metadata": {},
   "outputs": [],
   "source": []
  },
  {
   "cell_type": "markdown",
   "metadata": {},
   "source": [
    "### Overall heat transfer and lenght"
   ]
  },
  {
   "cell_type": "code",
   "execution_count": 10,
   "metadata": {},
   "outputs": [
    {
     "name": "stdout",
     "output_type": "stream",
     "text": [
      "The log mean temperature difference is 106.27628044747472 degrees Celcius.\n",
      "\n",
      "The overall heat transfer coefficient based on the outside area of the tube  is 833.2891793970764 W/m2K\n",
      "\n",
      "The heat transfer area needed is [89.32633847] m2\n",
      "\n",
      "Recommended lenght without fins is [79.95910189] m\n"
     ]
    }
   ],
   "source": [
    "#Overall heat transfer coefficient\n",
    "\n",
    "Ri = 8.815*10**-5\n",
    "Ro = 8.815*10**-5\n",
    "K_steel = 51.9 #W/mK\n",
    "# Caclulation of tube lenghts\n",
    "#Log mean temperature difference\n",
    "\n",
    "delT1 = Th_in-Tc_out\n",
    "delT2 = Th_out -Tc_in\n",
    "delT_lm = (delT1 - delT2)/np.log(delT1/delT2)\n",
    "print('The log mean temperature difference is {} degrees Celcius.'.format(delT_lm))\n",
    "print()\n",
    "\n",
    "U = 1/( 1/h_I*d_o/d_i + 1/h_O +Ri*d_o/d_i +Ro + d_o*np.log(d_o/d_i)/(2*K_steel)) #Overall heat transfer coefficient\n",
    "print('The overall heat transfer coefficient based on the outside area of the tube  is {} W/m2K'.format(float(U)))\n",
    "print()\n",
    "\n",
    "A_heat_transfer = Q/U/delT_lm\n",
    "print('The heat transfer area needed is {} m2'.format(A_heat_transfer))\n",
    "print()\n",
    "\n",
    "L = A_heat_transfer/np.pi/d_o\n",
    "print('Recommended lenght without fins is {} m'.format(L))\n",
    "\n"
   ]
  },
  {
   "cell_type": "code",
   "execution_count": 11,
   "metadata": {},
   "outputs": [
    {
     "name": "stdout",
     "output_type": "stream",
     "text": [
      "Length without fins = [79.95910189] m\n"
     ]
    }
   ],
   "source": [
    "#Check: This cell confirms the lenght calculated above\n",
    "R = delT_lm/Q #Total resistance \n",
    "num = 1/(h_I*np.pi*d_i) + 1/(h_O*np.pi*d_o) + np.log(d_o/d_i)/(2*np.pi*K_steel) + Ri/(np.pi*d_i) +Ro/(np.pi*d_o)\n",
    "L_without_fins = num/R\n",
    "print('Length without fins = {} m'.format(L_without_fins))"
   ]
  },
  {
   "cell_type": "code",
   "execution_count": null,
   "metadata": {},
   "outputs": [],
   "source": []
  },
  {
   "cell_type": "markdown",
   "metadata": {},
   "source": [
    "## 2. Design with fins\n",
    "<img src ='HX_fins.png' >\n",
    " \n",
    " For the following code, the lenght of the double pipe heat exhanger must first be guessed. Then the corresponding duty will be determined based on the fin lenght and number of fins. The lenght must be chosen such that the duty calculated must equal the Q value spesified at the top of this notebook.\n",
    "\n"
   ]
  },
  {
   "cell_type": "code",
   "execution_count": 12,
   "metadata": {},
   "outputs": [],
   "source": [
    "L_guess=24 #m"
   ]
  },
  {
   "cell_type": "code",
   "execution_count": 13,
   "metadata": {},
   "outputs": [
    {
     "name": "stdout",
     "output_type": "stream",
     "text": [
      "The chosen lenght is  24 m\n",
      "\n",
      "s = 4.0 mm\n",
      "\n",
      "x = 50.0 mm\n",
      "\n",
      "r1 = 177.79999999999998 mm\n",
      "\n",
      "h = 10.0 mm\n",
      "\n",
      "r2 = 187.79999999999998 mm\n",
      "\n",
      "The maximum number of fins is 444.4444444444444\n",
      "\n",
      "The chosen number of fins is 444 \n",
      "\n"
     ]
    }
   ],
   "source": [
    "#General Parameters\n",
    "\n",
    "s = 4*10**-3 #m\n",
    "x = 50*10**-3 #m\n",
    "r1 = d_o/2 #m\n",
    "h = 10*10**-3 #m\n",
    "r2 = r1+h\n",
    "N_max = L_guess/(s+x) #Maximum number of fins\n",
    "N = int(N_max)\n",
    "\n",
    "\n",
    "print('The chosen lenght is  {} m'.format(L_guess))\n",
    "print()\n",
    "print('s = {} mm'.format(s*10**3))\n",
    "print()\n",
    "print('x = {} mm'.format(x*10**3))\n",
    "print()\n",
    "print('r1 = {} mm'.format(r1*10**3))\n",
    "print()\n",
    "print('h = {} mm'.format(h*10**3))\n",
    "print()\n",
    "print('r2 = {} mm'.format(r2*10**3))\n",
    "print()\n",
    "print('The maximum number of fins is {}'.format(N_max))\n",
    "print()\n",
    "print('The chosen number of fins is {} '.format(N))\n",
    "print()"
   ]
  },
  {
   "cell_type": "markdown",
   "metadata": {},
   "source": [
    "It must be noted that due to the pressence of fins, the annulus area will decrease and increase the outer pipe flow. This will have an effect on Reynold and Nusselts number. As a result the outer heat transfer coeficient will also be affected."
   ]
  },
  {
   "cell_type": "code",
   "execution_count": 14,
   "metadata": {},
   "outputs": [
    {
     "name": "stdout",
     "output_type": "stream",
     "text": [
      "The new hydraulic diameter is 91.15040000000002 mm \n",
      "\n",
      "The clearance is 45.57520000000001 mm\n",
      "\n",
      "The new area of the annulus is 0.06030332329658406 m2\n",
      "\n",
      "The new outer velocity is 29.24813929947887 m/s\n",
      "\n",
      "New Reynolds number is 3616457.1143765314\n",
      "\n",
      "The new friction factor of the outer pipe is 0.009444666265426236 .\n",
      "\n",
      "New outer pipe Nusselt number is 3254.300010304616\n",
      "\n",
      "The new outer convective heat transfer coefficient is 2916.718295716042 W/m2K\n"
     ]
    }
   ],
   "source": [
    "#New properties of outer pipe fluid\n",
    "\n",
    "D_h_new = D_i - 2*r2\n",
    "\n",
    "print('The new hydraulic diameter is {} mm '.format(D_h_new*1000))\n",
    "print()\n",
    "\n",
    "Clr = D_i/2 - r2\n",
    "\n",
    "print('The clearance is {} mm'.format(Clr*1000))\n",
    "print()\n",
    "\n",
    "Anulus_area_new = np.pi*( D_i**2 - (2*r2)**2 )/4\n",
    "\n",
    "print('The new area of the annulus is {} m2'.format(Anulus_area_new))\n",
    "print()\n",
    "\n",
    "v_O_new = vol_O/Anulus_area_new\n",
    "\n",
    "print('The new outer velocity is {} m/s'.format(v_O_new))\n",
    "print()\n",
    "\n",
    "Re_O_new = Rho_O*v_O_new*(D_h_new)/mu_O \n",
    "\n",
    "print('New Reynolds number is {}'.format(Re_O_new))\n",
    "print()\n",
    "\n",
    "f_O_new = (0.79*np.log(Re_O_new)-1.64)**-2 #Assume flow to be smooth\n",
    "\n",
    "\n",
    "print('The new friction factor of the outer pipe is {} .'.format(float(f_O_new)))\n",
    "print()\n",
    "\n",
    "Nu_O_new = (f_O_new/8)*(Re_O_new-1000)*Pr_O/( 1 + 12.7*(f_O_new/8)**0.5* (Pr_O**(2/3)-1) ) #Gnielinski\n",
    "print('New outer pipe Nusselt number is {}'.format(float(Nu_O_new)))\n",
    "print()\n",
    "\n",
    "\n",
    "h_O_new = K_O*Nu_O_new/D_h_new\n",
    "print('The new outer convective heat transfer coefficient is {} W/m2K'.format(float(h_O_new)))\n",
    "\n"
   ]
  },
  {
   "cell_type": "markdown",
   "metadata": {},
   "source": [
    "It was expected for the outer Reynolds number to increase, but it did not. The reason for this is the decrease in hydraulic diameter. The result is a decrease in outer heat transfer coefficient."
   ]
  },
  {
   "cell_type": "code",
   "execution_count": 15,
   "metadata": {},
   "outputs": [
    {
     "name": "stdout",
     "output_type": "stream",
     "text": [
      "m = 167.62877302658194\n",
      "\n",
      "r2c = 0.1898 m\n",
      "\n",
      "A_fin (for one fin) = 0.027716387027030616 m2\n",
      "\n",
      "Fin efficiency = 47.14556167396682 %\n",
      "\n",
      "The effectiveness is 2.9241915305990247\n"
     ]
    }
   ],
   "source": [
    "#Some parameters needed\n",
    "\n",
    "m = np.sqrt((2*h_O_new)/(K_steel*s))\n",
    "print('m = {}'.format(m))\n",
    "print()\n",
    "\n",
    "r2c = r2 +s/2\n",
    "print('r2c = {} m'.format(r2c))\n",
    "print()\n",
    "\n",
    "A_fin = 2*np.pi*(r2c**2 - r1**2)\n",
    "print('A_fin (for one fin) = {} m2'.format(A_fin))\n",
    "print()\n",
    "\n",
    "C2 = 2*r1/m/(r2c**2 - r1**2)\n",
    "\n",
    "efficiency = C2*( sp.kv(1, m*r1)*sp.iv(1,m*r2c) - sp.iv(1,m*r1)*sp.kv(1,m*r2c) )/( sp.iv(0,m*r1)*sp.kv(1,m*r2c) + sp.kv(0,m*r1)*sp.iv(1,m*r2c) )\n",
    "print('Fin efficiency = {} %'.format(efficiency*100))\n",
    "print()\n",
    "\n",
    "A_b = 2*np.pi*r1*s\n",
    "\n",
    "Effectiveness = A_fin/A_b*efficiency\n",
    "print('The effectiveness is {}'.format(Effectiveness))\n",
    "\n",
    "\n"
   ]
  },
  {
   "cell_type": "code",
   "execution_count": 16,
   "metadata": {},
   "outputs": [
    {
     "name": "stdout",
     "output_type": "stream",
     "text": [
      "Q_no_fin = 615014.589701986 W\n"
     ]
    }
   ],
   "source": [
    "#Heat transfer from fined base area, but with no fins\n",
    "\n",
    "Q_no_fin = h_O_new*A_b*delT_lm*N\n",
    "print('Q_no_fin = {} W'.format(Q_no_fin))"
   ]
  },
  {
   "cell_type": "code",
   "execution_count": 17,
   "metadata": {},
   "outputs": [
    {
     "name": "stdout",
     "output_type": "stream",
     "text": [
      "Q_fins = 1798420.4544013818 W\n"
     ]
    }
   ],
   "source": [
    "#Heat transfer due to only fins\n",
    "Q_fins = Effectiveness*Q_no_fin\n",
    "print('Q_fins = {} W'.format(Q_fins))"
   ]
  },
  {
   "cell_type": "code",
   "execution_count": 18,
   "metadata": {},
   "outputs": [
    {
     "name": "stdout",
     "output_type": "stream",
     "text": [
      "Q_unfinned = 6439694.161995633 W\n"
     ]
    }
   ],
   "source": [
    "#Heat transfer due to the unfinned area\n",
    "A_total = np.pi*d_o*L_guess\n",
    "\n",
    "Q_unfinned = h_O*(A_total-A_b*N)*delT_lm\n",
    "print('Q_unfinned = {} W'.format(Q_unfinned))"
   ]
  },
  {
   "cell_type": "code",
   "execution_count": 19,
   "metadata": {},
   "outputs": [
    {
     "name": "stdout",
     "output_type": "stream",
     "text": [
      "Q_total = 8.238114616397015 MW\n",
      "\n",
      "But target Q = 7.91064 MW\n",
      "\n",
      "Error = 0.32747461639701386 MW\n"
     ]
    }
   ],
   "source": [
    "#Total heat transfer\n",
    "Q_tot = Q_fins + Q_unfinned\n",
    "print('Q_total = {} MW'.format(float(Q_tot/10**6)))\n",
    "print()\n",
    "print('But target Q = {} MW'.format(Q/10**6))\n",
    "print()\n",
    "print('Error = {} MW'.format((Q_tot-Q)/10**6))"
   ]
  },
  {
   "cell_type": "code",
   "execution_count": 20,
   "metadata": {},
   "outputs": [
    {
     "name": "stdout",
     "output_type": "stream",
     "text": [
      "The length of the double pipe heat exchanger with fins is 24 m\n"
     ]
    }
   ],
   "source": [
    "print('The length of the double pipe heat exchanger with fins is {} m'.format(L_guess))"
   ]
  },
  {
   "cell_type": "code",
   "execution_count": null,
   "metadata": {},
   "outputs": [],
   "source": []
  },
  {
   "cell_type": "markdown",
   "metadata": {},
   "source": [
    "## 3. Pressure drop \n",
    "\n",
    "Inside Pipe"
   ]
  },
  {
   "cell_type": "code",
   "execution_count": null,
   "metadata": {},
   "outputs": [],
   "source": []
  },
  {
   "cell_type": "markdown",
   "metadata": {},
   "source": [
    "Outside Pipe"
   ]
  },
  {
   "cell_type": "code",
   "execution_count": null,
   "metadata": {},
   "outputs": [],
   "source": []
  },
  {
   "cell_type": "code",
   "execution_count": null,
   "metadata": {},
   "outputs": [],
   "source": []
  }
 ],
 "metadata": {
  "kernelspec": {
   "display_name": "Python 3 (ipykernel)",
   "language": "python",
   "name": "python3"
  },
  "language_info": {
   "codemirror_mode": {
    "name": "ipython",
    "version": 3
   },
   "file_extension": ".py",
   "mimetype": "text/x-python",
   "name": "python",
   "nbconvert_exporter": "python",
   "pygments_lexer": "ipython3",
   "version": "3.9.12"
  }
 },
 "nbformat": 4,
 "nbformat_minor": 4
}
