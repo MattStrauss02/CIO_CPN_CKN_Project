{
 "cells": [
  {
   "cell_type": "markdown",
   "metadata": {},
   "source": [
    "# Haber Process: Mass and Energy Balances\n",
    "\n",
    "## CIO Project \n",
    "\n",
    "    \n",
    "<img src=\"Haber_Process_Picture.jpg\" \n",
    "     alt=\"Haber Process\" width=\"600\" />\n",
    "\n",
    "\n",
    "**Note**: The calculations in this notebook only apply to a system where the reagents are stoichiometrically fed."
   ]
  },
  {
   "cell_type": "code",
   "execution_count": 1,
   "metadata": {},
   "outputs": [],
   "source": [
    "import numpy as np"
   ]
  },
  {
   "cell_type": "code",
   "execution_count": 2,
   "metadata": {},
   "outputs": [],
   "source": [
    "conv=0.15    # Single pass conversion based on N2\n",
    "sep_NH3=0.93836   # Fraction of NH3 from stream_O that goes to storage\n",
    "N2=326.21     # Mole per second of N2 entering the system\n",
    "H2=3*N2       # Mole per second of H2 entering the system\n"
   ]
  },
  {
   "cell_type": "code",
   "execution_count": 3,
   "metadata": {},
   "outputs": [],
   "source": [
    "                    #N2_I   N2_R   N2_O           N2_S   \n",
    "N2_Matrix=np.array([[1     , -1,      0,             0     ],    #Reactor Inlet\n",
    "                   [ 1-conv,  0,     -1,             0     ],    #Reactor Outlet\n",
    "                   [ 0     ,  1,     -1,             0     ],    #Seperator\n",
    "                   [0      ,  0,      0,             1     ]])   #Storage)  \n",
    "\n",
    "N2_Vector   = np.array([N2, 0, 0, 0])\n",
    "N2_Solution = np.linalg.solve(N2_Matrix,N2_Vector)\n",
    "N2_I,   N2_R ,  N2_O , N2_S = N2_Solution\n"
   ]
  },
  {
   "cell_type": "code",
   "execution_count": 4,
   "metadata": {},
   "outputs": [],
   "source": [
    "                    #H2_I     H2_R        H2_O            H2_S   \n",
    "H2_Matrix=np.array([[1 ,          -1,      0,             0     ],    #Reactor Inlet\n",
    "                   [ 1-conv,       0,     -1,             0     ],    #Reactor Outlet\n",
    "                   [ 0     ,       1,     -1,             0     ],    #Seperator\n",
    "                   [0      ,       0,      0,             1     ]])   #Storage)  \n",
    "\n",
    "H2_Vector   = np.array([H2, 0, 0, 0])\n",
    "H2_Solution = np.linalg.solve(H2_Matrix,H2_Vector)\n",
    "H2_I,   H2_R ,  H2_O , H2_S = H2_Solution\n"
   ]
  },
  {
   "cell_type": "code",
   "execution_count": 5,
   "metadata": {},
   "outputs": [],
   "source": [
    "                    #NH3_I    NH3_R      NH3_O   NH3_S\n",
    "NH3_Matrix=np.array ([[1,       -1,       0,        0],  #Reactor Inlet      \n",
    "                     [-1,        0,       1,        0],  #Reactor Outlet  \n",
    "                     [0,         0,    sep_NH3,    -1],  #Seperator  \n",
    "                     [0,         1,   -(1-sep_NH3), 0]]) #Storage    \n",
    "                  \n",
    "                  \n",
    "                  \n",
    "                  \n",
    "                  \n",
    "\n",
    "NH3_Vector   = np.array([0, 2*N2_I*conv, 0, 0 ])\n",
    "NH3_Solution = np.linalg.solve(NH3_Matrix,NH3_Vector)\n",
    "NH3_I,   NH3_R ,  NH3_O , NH3_S = NH3_Solution\n"
   ]
  },
  {
   "cell_type": "code",
   "execution_count": 6,
   "metadata": {},
   "outputs": [
    {
     "name": "stdout",
     "output_type": "stream",
     "text": [
      "N2_I = 2174.7333333333327 mol/s\n",
      "N2_O = 1848.5233333333326 mol/s\n",
      "N2_R = 1848.5233333333326 mol/s\n",
      "N2_S = 0.0 mol/s\n",
      "\n",
      "\n",
      "H2_I = 6524.199999999999 mol/s\n",
      "H2_O = 5545.569999999999 mol/s\n",
      "H2_R = 5545.569999999999 mol/s\n",
      "H2_S = 0.0 mol/s\n",
      "\n",
      "\n",
      "NH3_I = 42.856866021569545 mol/s\n",
      "NH3_O = 695.2768660215693 mol/s\n",
      "NH3_R = 42.856866021569545 mol/s\n",
      "NH3_S = 652.4199999999997 mol/s\n"
     ]
    }
   ],
   "source": [
    "print('N2_I = {} mol/s' .format(N2_I))\n",
    "print('N2_O = {} mol/s' .format(N2_O))\n",
    "print('N2_R = {} mol/s' .format(N2_R))\n",
    "print('N2_S = {} mol/s' .format(N2_S))\n",
    "print()\n",
    "print()\n",
    "print('H2_I = {} mol/s' .format(H2_I))\n",
    "print('H2_O = {} mol/s' .format(H2_O))\n",
    "print('H2_R = {} mol/s' .format(H2_R))\n",
    "print('H2_S = {} mol/s' .format(H2_S))\n",
    "print()\n",
    "print()\n",
    "print('NH3_I = {} mol/s' .format(NH3_I))\n",
    "print('NH3_O = {} mol/s' .format(NH3_O))\n",
    "print('NH3_R = {} mol/s' .format(NH3_R))\n",
    "print('NH3_S = {} mol/s' .format(NH3_S))\n",
    "\n"
   ]
  },
  {
   "cell_type": "code",
   "execution_count": 7,
   "metadata": {},
   "outputs": [
    {
     "name": "stdout",
     "output_type": "stream",
     "text": [
      "Mass in = 11.09114 kg/s\n",
      "\n",
      "Mass to storage = 11.091139999999996 kg/s\n"
     ]
    }
   ],
   "source": [
    "#Run this cell to see if the mass balance holds\n",
    "\n",
    "M_in=(2*H2+28*N2)/1000\n",
    "\n",
    "M_out=(2*H2_S+28*N2_S+17*NH3_S)/1000\n",
    "\n",
    "print('Mass in = {} kg/s'.format(M_in))\n",
    "print()\n",
    "print('Mass to storage = {} kg/s'.format(M_out))"
   ]
  },
  {
   "cell_type": "code",
   "execution_count": 9,
   "metadata": {},
   "outputs": [
    {
     "name": "stdout",
     "output_type": "stream",
     "text": [
      "Mass flowrate in recycle is 63.578360055699996 kg/s\n"
     ]
    }
   ],
   "source": [
    "#Mass in recycle\n",
    "\n",
    "M_R = N2_R*28 +H2_R*2 +NH3_R*17\n",
    "print('Mass flowrate in recycle is {} kg/s'.format(M_R/1000))"
   ]
  },
  {
   "cell_type": "code",
   "execution_count": null,
   "metadata": {},
   "outputs": [],
   "source": []
  }
 ],
 "metadata": {
  "kernelspec": {
   "display_name": "Python 3 (ipykernel)",
   "language": "python",
   "name": "python3"
  },
  "language_info": {
   "codemirror_mode": {
    "name": "ipython",
    "version": 3
   },
   "file_extension": ".py",
   "mimetype": "text/x-python",
   "name": "python",
   "nbconvert_exporter": "python",
   "pygments_lexer": "ipython3",
   "version": "3.9.12"
  }
 },
 "nbformat": 4,
 "nbformat_minor": 4
}
