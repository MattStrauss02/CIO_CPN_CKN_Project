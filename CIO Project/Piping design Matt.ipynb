{
 "cells": [
  {
   "cell_type": "code",
   "execution_count": 36,
   "id": "50a8e870",
   "metadata": {},
   "outputs": [],
   "source": [
    "import numpy as np \n",
    "from scipy.optimize import fsolve"
   ]
  },
  {
   "cell_type": "markdown",
   "id": "3f9ef7d6",
   "metadata": {},
   "source": [
    "## Adiabatic model"
   ]
  },
  {
   "cell_type": "code",
   "execution_count": 21,
   "id": "d848c1e1",
   "metadata": {},
   "outputs": [],
   "source": [
    "R = 8.314\n",
    "pi = np.pi\n",
    "f_prime_guess = 0.02\n"
   ]
  },
  {
   "cell_type": "code",
   "execution_count": 44,
   "id": "95391ccd",
   "metadata": {},
   "outputs": [
    {
     "ename": "SyntaxError",
     "evalue": "invalid syntax (237607588.py, line 1)",
     "output_type": "error",
     "traceback": [
      "\u001b[0;36m  Cell \u001b[0;32mIn[44], line 1\u001b[0;36m\u001b[0m\n\u001b[0;31m    P1 =\u001b[0m\n\u001b[0m         ^\u001b[0m\n\u001b[0;31mSyntaxError\u001b[0m\u001b[0;31m:\u001b[0m invalid syntax\n"
     ]
    }
   ],
   "source": [
    "P1 = \n",
    "T1 = \n",
    "M = \n",
    "mu1 = \n",
    "W = \n",
    "D1 = \n",
    "L1 = \n",
    "epsilon = \n",
    "Cp1 = \n",
    "Cv1 = "
   ]
  },
  {
   "cell_type": "code",
   "execution_count": 32,
   "id": "b7aec359",
   "metadata": {},
   "outputs": [],
   "source": [
    "def f_prime(x,epsilon,D,Re):\n",
    "    LHS=1/np.sqrt(x)\n",
    "    RHS=-2*np.log10(e/D/3.7+2.51/Re/np.sqrt(x))\n",
    "    return LHS - RHS"
   ]
  },
  {
   "cell_type": "code",
   "execution_count": 33,
   "id": "44aeaae5",
   "metadata": {},
   "outputs": [],
   "source": [
    "def rho(rho2, f_prime, L, D, k, rho1, P1, A, W):\n",
    "    LHS = f_prime*L/D\n",
    "    RHS = ((k+1)/k)*np.log(rho2/rho1) + (1-(rho2/rho1)**2)*((k-1)/(2*k)+P1*rho1*(A/W)**2)\n",
    "    return LHS - RHS"
   ]
  },
  {
   "cell_type": "code",
   "execution_count": 34,
   "id": "63938b20",
   "metadata": {},
   "outputs": [],
   "source": [
    "def P(P2, W, A, k, P1, rho1, rho2):\n",
    "    LHS = (W/(rho1*A))**2 + 2*k*(P1/rho1)/(k-1)\n",
    "    RHS = (W/(rho2*A))**2 + 2*k*(P2/rho2)/(k-1)\n",
    "    return LHS - RHS"
   ]
  },
  {
   "cell_type": "code",
   "execution_count": 15,
   "id": "5219be7c",
   "metadata": {},
   "outputs": [
    {
     "ename": "NameError",
     "evalue": "name 'M' is not defined",
     "output_type": "error",
     "traceback": [
      "\u001b[0;31m---------------------------------------------------------------------------\u001b[0m",
      "\u001b[0;31mNameError\u001b[0m                                 Traceback (most recent call last)",
      "Cell \u001b[0;32mIn[15], line 1\u001b[0m\n\u001b[0;32m----> 1\u001b[0m rho1 \u001b[38;5;241m=\u001b[39m \u001b[43mM\u001b[49m\u001b[38;5;241m*\u001b[39mP1\u001b[38;5;241m/\u001b[39m(R\u001b[38;5;241m*\u001b[39mT1)\n\u001b[1;32m      3\u001b[0m A1 \u001b[38;5;241m=\u001b[39m pi\u001b[38;5;241m*\u001b[39mD1\u001b[38;5;241m*\u001b[39m\u001b[38;5;241m*\u001b[39m\u001b[38;5;241m2\u001b[39m\u001b[38;5;241m/\u001b[39m\u001b[38;5;241m4\u001b[39m\n\u001b[1;32m      5\u001b[0m u1 \u001b[38;5;241m=\u001b[39m W\u001b[38;5;241m/\u001b[39m(rho1\u001b[38;5;241m*\u001b[39mA)\n",
      "\u001b[0;31mNameError\u001b[0m: name 'M' is not defined"
     ]
    }
   ],
   "source": [
    "rho1 = M*P1/(R*T1)\n",
    "\n",
    "A1 = pi*D1**2/4\n",
    "\n",
    "k1 = Cp1/Cv1\n",
    "\n",
    "u1 = W/(rho1*A)\n",
    "\n",
    "Re1 = rho1*u1*D/(mu1**2)\n",
    "\n",
    "f_prime_1 = fsolve(f_prime, f_prime_guess, args=(epsilon,D1,Re1))[0]\n",
    "\n",
    "rho2 = fsolve(rho, rho1, args=(f_prime, L1, D1, k, rho1, P1, A, W))"
   ]
  },
  {
   "cell_type": "code",
   "execution_count": null,
   "id": "2202df32",
   "metadata": {},
   "outputs": [],
   "source": []
  }
 ],
 "metadata": {
  "kernelspec": {
   "display_name": "Python 3 (ipykernel)",
   "language": "python",
   "name": "python3"
  },
  "language_info": {
   "codemirror_mode": {
    "name": "ipython",
    "version": 3
   },
   "file_extension": ".py",
   "mimetype": "text/x-python",
   "name": "python",
   "nbconvert_exporter": "python",
   "pygments_lexer": "ipython3",
   "version": "3.10.9"
  }
 },
 "nbformat": 4,
 "nbformat_minor": 5
}
