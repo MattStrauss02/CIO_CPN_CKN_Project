{
 "cells": [
  {
   "cell_type": "code",
   "execution_count": 1,
   "id": "4decee85",
   "metadata": {},
   "outputs": [],
   "source": [
    "import numpy as np \n",
    "from scipy.optimize import fsolve"
   ]
  },
  {
   "cell_type": "markdown",
   "id": "5482e5b3",
   "metadata": {},
   "source": [
    "## Adiabatic model"
   ]
  },
  {
   "cell_type": "code",
   "execution_count": 2,
   "id": "781376cb",
   "metadata": {},
   "outputs": [],
   "source": [
    "R = 8.314\n",
    "pi = np.pi\n",
    "f_prime_guess = 0.02\n"
   ]
  },
  {
   "cell_type": "code",
   "execution_count": 51,
   "id": "2087b16b",
   "metadata": {},
   "outputs": [],
   "source": [
    "P1 = 30*100000 #Pa\n",
    "T1 = 25+273.15\n",
    "MM = 2.016\n",
    "mu1 = 0.00899 #Cp\n",
    "W_per_sec = 1.97637 #kg/sec\n",
    "W = W_per_sec*3600 #kg/h\n",
    "D1 = 0.1397\n",
    "L1 = 2 #m Just a guess\n",
    "e = 0.000046 #m\n",
    "Cp1 = 14.3346\n",
    "Cv1 = 14.3346/1.42785"
   ]
  },
  {
   "cell_type": "code",
   "execution_count": 52,
   "id": "81353f11",
   "metadata": {},
   "outputs": [
    {
     "name": "stdout",
     "output_type": "stream",
     "text": [
      "0.015327901242699303 52.846789760909175 2.439871469442849\n"
     ]
    }
   ],
   "source": [
    "A1 = pi*D1**2/4\n",
    "\n",
    "rho1 = MM*P1/(R*T1)/1000\n",
    "\n",
    "u1 = W_per_sec/(rho1*A1)\n",
    "\n",
    "print(A1, u1, rho1)"
   ]
  },
  {
   "cell_type": "code",
   "execution_count": 53,
   "id": "212fe122",
   "metadata": {},
   "outputs": [],
   "source": [
    "def f_prime(x,e,D1,Re1):\n",
    "    LHS=1/np.sqrt(x)\n",
    "    RHS=-2*np.log10(e/D1/3.7+2.51/Re1/np.sqrt(x))\n",
    "    return LHS - RHS"
   ]
  },
  {
   "cell_type": "code",
   "execution_count": 54,
   "id": "289db5a0",
   "metadata": {},
   "outputs": [],
   "source": [
    "def rho(rho2, f_prime, L1, D1, k, rho1, P1, A1, W):\n",
    "    LHS = f_prime*L1/D1\n",
    "    RHS = ((k+1)/k)*np.log(rho2/rho1) + (1-(rho2/rho1)**2)*((k-1)/(2*k)+P1*rho1*(A1/W)**2)\n",
    "    return LHS - RHS"
   ]
  },
  {
   "cell_type": "code",
   "execution_count": 55,
   "id": "5e1e1fc3",
   "metadata": {},
   "outputs": [],
   "source": [
    "def P(P2, W, A1, k, P1, rho1, rho2):\n",
    "    LHS = (W/(rho1*A1))**2 + 2*k*(P1/rho1)/(k-1)\n",
    "    RHS = (W/(rho2*A1))**2 + 2*k*(P2/rho2)/(k-1)\n",
    "    return LHS - RHS"
   ]
  },
  {
   "cell_type": "code",
   "execution_count": 56,
   "id": "b11a597d",
   "metadata": {},
   "outputs": [
    {
     "name": "stdout",
     "output_type": "stream",
     "text": [
      "2.439871469442849\n",
      "0.04967410221591388\n",
      "2.4378969958539827\n",
      "29.975705876506854\n"
     ]
    }
   ],
   "source": [
    "k = Cp1/Cv1\n",
    "\n",
    "Re1 = rho1*u1*D1/(mu1)\n",
    "\n",
    "f_prime_1 = fsolve(f_prime, f_prime_guess, args=(e,D1,Re1))[0]\n",
    "\n",
    "rho2 = fsolve(rho, rho1, args=(f_prime_1, L1, D1, k, rho1, P1, A1, W_per_sec))[0]\n",
    "\n",
    "P2 = fsolve(P,P1,args=(W_per_sec, A1, k, P1, rho1, rho2))[0]\n",
    "\n",
    "print(rho1)\n",
    "print(f_prime_1)\n",
    "print(rho2)\n",
    "print(P2/100000)"
   ]
  },
  {
   "cell_type": "markdown",
   "id": "e0896a31",
   "metadata": {},
   "source": [
    "### Sonic velocity"
   ]
  },
  {
   "cell_type": "code",
   "execution_count": 57,
   "id": "c20e9ae2",
   "metadata": {},
   "outputs": [
    {
     "name": "stdout",
     "output_type": "stream",
     "text": [
      "1324.4712268392348\n"
     ]
    }
   ],
   "source": [
    "c = np.sqrt(k*P2/rho1)\n",
    "print(c)"
   ]
  },
  {
   "cell_type": "markdown",
   "id": "3147ebc0",
   "metadata": {},
   "source": [
    "### Calculation of thicknesses"
   ]
  },
  {
   "cell_type": "code",
   "execution_count": 58,
   "id": "e2ece73d",
   "metadata": {},
   "outputs": [],
   "source": [
    "#-----------------------------------Known values-----------------------------------------------\n",
    "M = 1.125\n",
    "S = 110.32e6\n",
    "E = 1\n",
    "Y = 0.4"
   ]
  },
  {
   "cell_type": "code",
   "execution_count": 59,
   "id": "b5e38e31",
   "metadata": {},
   "outputs": [],
   "source": [
    "def calc_tmin(M,S,E,Y,P,d,C):\n",
    "    return M*((P*d/(2*(S*E+P*Y)))+C)"
   ]
  },
  {
   "cell_type": "code",
   "execution_count": 60,
   "id": "1b08098c",
   "metadata": {},
   "outputs": [
    {
     "name": "stdout",
     "output_type": "stream",
     "text": [
      "The minimum wall thickness is 4.36 mm\n"
     ]
    }
   ],
   "source": [
    "tmin = calc_tmin(M,S,E,Y,P2,D1*1000,2)\n",
    "print(\"The minimum wall thickness is {} mm\".format(np.round(tmin,2)))"
   ]
  },
  {
   "cell_type": "code",
   "execution_count": 61,
   "id": "65d00919",
   "metadata": {},
   "outputs": [
    {
     "name": "stdout",
     "output_type": "stream",
     "text": [
      "0.1397 0.12769999999999998\n"
     ]
    }
   ],
   "source": [
    "t = 0.006   #m\n",
    "D1_rev = D1 - 2*t\n",
    "print(D1, D1_rev)"
   ]
  },
  {
   "cell_type": "markdown",
   "id": "2519665f",
   "metadata": {},
   "source": [
    "Redo calculations with new diameter"
   ]
  },
  {
   "cell_type": "code",
   "execution_count": 62,
   "id": "0a2b9351",
   "metadata": {},
   "outputs": [
    {
     "name": "stdout",
     "output_type": "stream",
     "text": [
      "0.012807715615989571 63.24549972343547 2.439871469442849\n"
     ]
    }
   ],
   "source": [
    "A1 = pi*D1_rev**2/4\n",
    "\n",
    "rho1 = MM*P1/(R*T1)/1000\n",
    "\n",
    "u1 = W_per_sec/(rho1*A1)\n",
    "\n",
    "print(A1, u1, rho1)"
   ]
  },
  {
   "cell_type": "code",
   "execution_count": 50,
   "id": "90ee6a02",
   "metadata": {},
   "outputs": [
    {
     "name": "stdout",
     "output_type": "stream",
     "text": [
      "2.439871469442849\n",
      "0.048299680167579934\n",
      "2.4323373821314154\n",
      "29.90727245699999\n"
     ]
    }
   ],
   "source": [
    "Re1 = rho1*u1*D1_rev/(mu1)\n",
    "\n",
    "f_prime_1 = fsolve(f_prime, f_prime_guess, args=(e,D1_rev,Re1))[0]\n",
    "\n",
    "rho2 = fsolve(rho, rho1, args=(f_prime_1, L1, D1_rev, k, rho1, P1, A1, W_per_sec))[0]\n",
    "\n",
    "P2 = fsolve(P,P1,args=(W_per_sec, A1, k, P1, rho1, rho2))[0]\n",
    "\n",
    "print(rho1)\n",
    "print(f_prime_1)\n",
    "print(rho2)\n",
    "print(P2/100000)"
   ]
  },
  {
   "cell_type": "markdown",
   "id": "41771191",
   "metadata": {},
   "source": [
    "### Isothermal model"
   ]
  },
  {
   "cell_type": "code",
   "execution_count": null,
   "id": "7e215bc9",
   "metadata": {},
   "outputs": [],
   "source": []
  },
  {
   "cell_type": "code",
   "execution_count": null,
   "id": "a3c38d10",
   "metadata": {},
   "outputs": [],
   "source": []
  }
 ],
 "metadata": {
  "kernelspec": {
   "display_name": "Python 3 (ipykernel)",
   "language": "python",
   "name": "python3"
  },
  "language_info": {
   "codemirror_mode": {
    "name": "ipython",
    "version": 3
   },
   "file_extension": ".py",
   "mimetype": "text/x-python",
   "name": "python",
   "nbconvert_exporter": "python",
   "pygments_lexer": "ipython3",
   "version": "3.9.12"
  }
 },
 "nbformat": 4,
 "nbformat_minor": 5
}
