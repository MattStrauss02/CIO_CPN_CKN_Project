{
 "cells": [
  {
   "cell_type": "markdown",
   "metadata": {},
   "source": [
    "# Piping Design\n",
    "**Note the following:**\n",
    "\n",
    "1. Lenghts and diameters are in meters.\n",
    "\n",
    "2. Mass flowrates are in kg/s.\n",
    "\n",
    "3. Velocities are in m/s.\n",
    "\n",
    "4. Pressures are in Pa.\n",
    "\n",
    "5. Viscosities are in N.s\n",
    "\n"
   ]
  },
  {
   "cell_type": "code",
   "execution_count": 9,
   "metadata": {},
   "outputs": [],
   "source": [
    "import numpy as np\n",
    "from scipy.optimize import fsolve"
   ]
  },
  {
   "cell_type": "code",
   "execution_count": 10,
   "metadata": {},
   "outputs": [],
   "source": [
    "La=1 #m\n",
    "Lb=1 #m\n",
    "LrD_elbow=30\n",
    "Pa=105*100*1000 #Pa\n",
    "\n",
    "\n",
    "D=0.1991 #inner diameter\n",
    "W=27.1596 #Kg/s\n",
    "MM=8.716 #g/mol from DWSIM\n",
    "R=8.314\n",
    "T_sep = -27.076+273.15 #K\n",
    "Kr_exit=0.5\n",
    "cP=1/1000   #Pa.s (1 centipoise = 0.001 Pa.s)\n",
    "e=0.046/1000 #Absolute roughness of steel in meters\n",
    "\n",
    "viscosity_H2_sep=0.0079918*cP #Pa.s\n",
    "viscosity_N2_sep=0.018495*cP  #Pa.s\n",
    "Mass_frac_H2=0.169\n",
    "Mass_frac_N2=0.785\n",
    "viscosity_sep = Mass_frac_H2*viscosity_H2_sep + Mass_frac_N2*viscosity_N2_sep #Viscosity out of seperator"
   ]
  },
  {
   "cell_type": "code",
   "execution_count": 11,
   "metadata": {},
   "outputs": [
    {
     "name": "stdout",
     "output_type": "stream",
     "text": [
      "The pressure at the outlet of the seperator is 10487241.123669757 Pa.\n",
      "\n",
      "delPstv/P = 0.0012151310790708021. Use compressible flow model irrespective of delPstv. \n"
     ]
    }
   ],
   "source": [
    "A=np.pi*D**2/4\n",
    "Rho=MM*Pa/(R*T_sep*1000)      #Density inside seperator\n",
    "v=W/(Rho*A)                        #velocity out of seperator\n",
    "\n",
    "P_ke=0.5*Rho*v**2                  #Dynamic pressure out seperator\n",
    "Pb =Pa-(1+Kr_exit)*P_ke   #Static pressure at seperator outlet. Calulated using MEB.\n",
    "delPstv=(Pa-Pb)/Pa  #Must be less than 0.1\n",
    "\n",
    "print('The pressure at the outlet of the seperator is {} Pa.'.format(Pb))\n",
    "print()\n",
    "print('delPstv/P = {}. Use compressible flow model irrespective of delPstv. '.format(delPstv))\n",
    "\n"
   ]
  },
  {
   "cell_type": "code",
   "execution_count": null,
   "metadata": {},
   "outputs": [],
   "source": []
  },
  {
   "cell_type": "markdown",
   "metadata": {},
   "source": [
    "The pressure at the inlet of the heat exchanger will now be calculated."
   ]
  },
  {
   "cell_type": "code",
   "execution_count": 12,
   "metadata": {},
   "outputs": [],
   "source": [
    "Rho=MM*Pb/(R*T_sep*1000)   #Density at the outlet of the seperator.\n",
    "v=W/(Rho*A)                        #velocity out of seperator\n",
    "Re=Rho*v*D/viscosity_sep     #Reynolds number"
   ]
  },
  {
   "cell_type": "code",
   "execution_count": 13,
   "metadata": {},
   "outputs": [],
   "source": [
    "def friction(x):\n",
    "    LHS=1/np.sqrt(x)\n",
    "    RHS=-2*np.log10(e/D/3.7+2.51/Re/np.sqrt(x))\n",
    "    return LHS-RHS"
   ]
  },
  {
   "cell_type": "code",
   "execution_count": 14,
   "metadata": {},
   "outputs": [
    {
     "name": "stdout",
     "output_type": "stream",
     "text": [
      "The friction factor is [0.01423092].\n"
     ]
    }
   ],
   "source": [
    "f=fsolve(friction,0.02)  #friction factor\n",
    "print('The friction factor is {}.'.format(f))\n",
    "Lp= La+Lb\n",
    "Lr= LrD_elbow * D\n",
    "Le= Lp + Lr"
   ]
  },
  {
   "cell_type": "code",
   "execution_count": 15,
   "metadata": {},
   "outputs": [],
   "source": [
    "def Pressure(x):\n",
    "    LHS = x\n",
    "    term   = (W/A)**2*(Pb/Rho)*(f*Le/D + 2*np.log(Pb/x))\n",
    "    RHS = np.sqrt(Pb**2 -term) \n",
    "    return LHS-RHS"
   ]
  },
  {
   "cell_type": "code",
   "execution_count": 16,
   "metadata": {},
   "outputs": [
    {
     "name": "stdout",
     "output_type": "stream",
     "text": [
      "The pressure at the inlet of the heat exchanger is [10482378.84802726] Pa.\n",
      "\n",
      "The pressure drop between point b and c is [4862.2756425] Pa.\n"
     ]
    }
   ],
   "source": [
    "Pc = fsolve(Pressure,0.9*Pb)\n",
    "print('The pressure at the inlet of the heat exchanger is {} Pa.'.format(Pc))\n",
    "print()\n",
    "delP = Pb-Pc\n",
    "print('The pressure drop between point b and c is {} Pa.'.format(delP))"
   ]
  },
  {
   "cell_type": "code",
   "execution_count": null,
   "metadata": {},
   "outputs": [],
   "source": []
  },
  {
   "cell_type": "code",
   "execution_count": null,
   "metadata": {},
   "outputs": [],
   "source": []
  }
 ],
 "metadata": {
  "kernelspec": {
   "display_name": "Python 3 (ipykernel)",
   "language": "python",
   "name": "python3"
  },
  "language_info": {
   "codemirror_mode": {
    "name": "ipython",
    "version": 3
   },
   "file_extension": ".py",
   "mimetype": "text/x-python",
   "name": "python",
   "nbconvert_exporter": "python",
   "pygments_lexer": "ipython3",
   "version": "3.9.12"
  }
 },
 "nbformat": 4,
 "nbformat_minor": 4
}
