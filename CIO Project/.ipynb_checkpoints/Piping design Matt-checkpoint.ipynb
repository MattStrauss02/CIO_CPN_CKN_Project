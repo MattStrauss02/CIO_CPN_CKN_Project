{
 "cells": [
  {
   "cell_type": "code",
   "execution_count": 1,
   "metadata": {},
   "outputs": [],
   "source": [
    "import numpy as np \n",
    "from scipy.optimize import fsolve"
   ]
  },
  {
   "cell_type": "markdown",
   "metadata": {},
   "source": [
    "## Adiabatic model"
   ]
  },
  {
   "cell_type": "code",
   "execution_count": 2,
   "metadata": {},
   "outputs": [],
   "source": [
    "R = 8.314\n",
    "pi = np.pi\n",
    "f_prime_guess = 0.02\n"
   ]
  },
  {
   "cell_type": "code",
   "execution_count": 3,
   "metadata": {},
   "outputs": [],
   "source": [
    "P1 = 30*100 #KPa\n",
    "T1 = 25+273.15\n",
    "M = 1\n",
    "mu1 = 0.00899 #Cp\n",
    "W = 1.97637*3600 #kg/h\n",
    "D1 = 0.0503\n",
    "L1 = 5 #m Just a guess\n",
    "e = 0.000046 #m\n",
    "Cp1 = 14.3346\n",
    "Cv1 = 14.3346/1.42785"
   ]
  },
  {
   "cell_type": "code",
   "execution_count": 4,
   "metadata": {},
   "outputs": [],
   "source": [
    "def f_prime(x,e,D1,Re1):\n",
    "    LHS=1/np.sqrt(x)\n",
    "    RHS=-2*np.log10(e/D1/3.7+2.51/Re1/np.sqrt(x))\n",
    "    return LHS - RHS"
   ]
  },
  {
   "cell_type": "code",
   "execution_count": 5,
   "metadata": {},
   "outputs": [],
   "source": [
    "def rho(rho2, f_prime, L1, D1, k, rho1, P1, A1, W):\n",
    "    LHS = f_prime*L1/D1\n",
    "    RHS = ((k+1)/k)*np.log(rho2/rho1) + (1-(rho2/rho1)**2)*((k-1)/(2*k)+P1*rho1*(A1/W)**2)\n",
    "    return LHS - RHS"
   ]
  },
  {
   "cell_type": "code",
   "execution_count": 6,
   "metadata": {},
   "outputs": [],
   "source": [
    "def P(P2, W, A1, k, P1, rho1, rho2):\n",
    "    LHS = (W/(rho1*A1))**2 + 2*k*(P1/rho1)/(k-1)\n",
    "    RHS = (W/(rho2*A1))**2 + 2*k*(P2/rho2)/(k-1)\n",
    "    return LHS - RHS"
   ]
  },
  {
   "cell_type": "code",
   "execution_count": 11,
   "metadata": {},
   "outputs": [
    {
     "name": "stdout",
     "output_type": "stream",
     "text": [
      "[0.01921535]\n",
      "[2.88640307]\n"
     ]
    }
   ],
   "source": [
    "rho1 = M*P1/(R*T1)\n",
    "\n",
    "A1 = pi*D1**2/4\n",
    "\n",
    "k = Cp1/Cv1\n",
    "\n",
    "u1 = W/(rho1*A1)\n",
    "\n",
    "Re1 = rho1*u1*D1/(mu1**2)\n",
    "\n",
    "f_prime_1 = fsolve(f_prime, f_prime_guess, args=(e,D1,Re1))\n",
    "\n",
    "rho2 = fsolve(rho, rho1, args=(f_prime_1, L1, D1, k, rho1, P1, A1, W))\n",
    "print(f_prime_1)\n",
    "print(rho2)"
   ]
  },
  {
   "cell_type": "code",
   "execution_count": null,
   "metadata": {},
   "outputs": [],
   "source": []
  }
 ],
 "metadata": {
  "kernelspec": {
   "display_name": "Python 3",
   "language": "python",
   "name": "python3"
  },
  "language_info": {
   "codemirror_mode": {
    "name": "ipython",
    "version": 3
   },
   "file_extension": ".py",
   "mimetype": "text/x-python",
   "name": "python",
   "nbconvert_exporter": "python",
   "pygments_lexer": "ipython3",
   "version": "3.8.3"
  }
 },
 "nbformat": 4,
 "nbformat_minor": 5
}
