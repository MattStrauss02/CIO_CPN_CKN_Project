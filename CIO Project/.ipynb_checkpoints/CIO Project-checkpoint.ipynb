{
 "cells": [
  {
   "cell_type": "markdown",
   "id": "9ad3bc37",
   "metadata": {},
   "source": [
    "Lets check if this repository works"
   ]
  },
  {
   "cell_type": "code",
   "execution_count": 1,
   "id": "1169d5d8",
   "metadata": {},
   "outputs": [
    {
     "name": "stdout",
     "output_type": "stream",
     "text": [
      "Based on our hopes and dreams we will get 27.5% for the assignment\n"
     ]
    }
   ],
   "source": [
    "#Enter the mark out of 100 you hope to get for this assignment:\n",
    "mark1 = 85   #Matt\n",
    "mark2 = 80   #Hein\n",
    "mark3 = 99   #David\n",
    "mark4 = 0   #Lourens\n",
    "mark5 = 0   #Marco\n",
    "\n",
    "\n",
    "print(\"Based on our hopes and dreams we will get {}% for the assignment\".format(round((mark1+mark2+mark3+mark4+mark5)/6,2)))"
   ]
  },
  {
   "cell_type": "code",
   "execution_count": null,
   "id": "add4249b",
   "metadata": {},
   "outputs": [],
   "source": []
  }
 ],
 "metadata": {
  "kernelspec": {
   "display_name": "Python 3 (ipykernel)",
   "language": "python",
   "name": "python3"
  },
  "language_info": {
   "codemirror_mode": {
    "name": "ipython",
    "version": 3
   },
   "file_extension": ".py",
   "mimetype": "text/x-python",
   "name": "python",
   "nbconvert_exporter": "python",
   "pygments_lexer": "ipython3",
   "version": "3.9.12"
  }
 },
 "nbformat": 4,
 "nbformat_minor": 5
}
